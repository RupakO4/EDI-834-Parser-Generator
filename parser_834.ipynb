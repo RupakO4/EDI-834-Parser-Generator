{
 "cells": [
  {
   "cell_type": "markdown",
   "id": "e9e2f7dd",
   "metadata": {},
   "source": [
    "# EDI 834 Parser"
   ]
  },
  {
   "cell_type": "code",
   "execution_count": 2,
   "id": "157a2769",
   "metadata": {},
   "outputs": [
    {
     "name": "stdout",
     "output_type": "stream",
     "text": [
      "INS*Y*18*030*XN*A*E**FT~\n",
      "REF*OF*152239999~\n",
      "REF*1L*Blue~\n",
      "DTP*336*D8*20070101~\n",
      "NM1*IL*1*BLUTH*LUCILLE****34*152239999~\n",
      "N3*224 N DES PLAINES*6TH FLOOR~\n",
      "N4*CHICAGO*IL*60661*USA~\n",
      "DMG*D8*19720121*F*M~\n",
      "HD*030**VIS**EMP~\n",
      "DTP*348*D8*20111016~\n",
      "INS*N*19*030*XN*A*E***N*N~\n",
      "REF*OF*152239999~\n",
      "REF*1L*Blue~\n",
      "DTP*357*D8*20111015~\n",
      "NM1*IL*1*BLUTH*BUSTER~\n",
      "N3*224 N DES PLAINES*6TH FLOOR~\n",
      "N4*CHICAGO*IL*60661*USA~\n",
      "DMG*D**19911015*M-HD*030**VIS~\n",
      "DTP*348*D8*20110101~\n",
      "DTP*349*D8*20111015~\n",
      "defaultdict(<class 'list'>, {'INS': [['Y', '18', '030', 'XN', 'A', 'E', '', 'FT'], ['N', '19', '030', 'XN', 'A', 'E', '', '', 'N', 'N']], 'REF': [['OF', '152239999'], ['1L', 'Blue'], ['OF', '152239999'], ['1L', 'Blue']], 'DTP': [['336', 'D8', '20070101'], ['348', 'D8', '20111016'], ['357', 'D8', '20111015'], ['348', 'D8', '20110101'], ['349', 'D8', '20111015']], 'NM1': [['IL', '1', 'BLUTH', 'LUCILLE', '', '', '', '34', '152239999'], ['IL', '1', 'BLUTH', 'BUSTER']], 'N3': [['224 N DES PLAINES', '6TH FLOOR'], ['224 N DES PLAINES', '6TH FLOOR']], 'N4': [['CHICAGO', 'IL', '60661', 'USA'], ['CHICAGO', 'IL', '60661', 'USA']], 'DMG': [['D8', '19720121', 'F', 'M'], ['D', '', '19911015', 'M-HD', '030', '', 'VIS']], 'HD': [['030', '', 'VIS', '', 'EMP']]})\n"
     ]
    }
   ],
   "source": [
    "from collections import defaultdict\n",
    "\n",
    "\n",
    "#incorrect\n",
    "file_path = \"/Users/rupakpantha/Downloads/viveka834/sample.txt\"\n",
    "\n",
    "# Open the file in read mode\n",
    "with open(file_path, \"r\") as file:\n",
    "    lines = []\n",
    "    for line in file:\n",
    "        print(line.strip()) # Print the line without leading/trailing whitespaces\n",
    "        lines.append(line)\n",
    "\n",
    "        \n",
    "data_dict = defaultdict(list)\n",
    "for line in lines:\n",
    "    elements = line.split('*')\n",
    "    key = elements[0]\n",
    "    values = [element.split('~')[0] for element in elements[1:]]\n",
    "    data_dict[key].append(values)\n",
    "\n",
    "print(data_dict)\n",
    "        "
   ]
  },
  {
   "cell_type": "code",
   "execution_count": 13,
   "id": "fe5f616f",
   "metadata": {
    "scrolled": true
   },
   "outputs": [
    {
     "name": "stdout",
     "output_type": "stream",
     "text": [
      "defaultdict(<class 'list'>, {'ISA': [['00', '          ', '00', '          ', 'ZZ', 'EMEDNYMCR      ', 'ZZ', '8-DIGIT PLAN ID', '191127', '1410', '^', '00501', '193310003', '0', 'T', ':', 1]], 'GS': [['BE', 'EMEDNYMCR', 'ETIN', '20191127', '141000', '193310003', 'X', '005010X220A1', 2]], 'ST': [['834', '193310001', '005010X220A1', 3], ['834', '193310002', '005010X220A1', 79], ['834', '193310003', '005010X220A1', 148], ['834', '193310004', '005010X220A1', 237]], 'BGN': [['00', '1933100000000003XF1933100000000001', '20191127', '141001', '', '', '', '2', 4], ['00', '1933100000000003XF1933100000000002', '20191127', '141002', '', '', '', '2', 80], ['00', '1933100000000003XF1933100000000003', '20191127', '141003', '', '', '', '2', 149], ['00', '1933100000000003XF1933100000000004', '20191127', '141004', '', '', '', '2', 238]], 'QTY': [['TO', '1', 5], ['TO', '1', 81], ['TO', '1', 150], ['TO', '1', 239]], 'N1': [['P5', 'MEDICAID', 'FI', '141797357', 6], ['IN', '', '94', '8-DIGIT PLAN ID', 7], ['75', 'FAM IND', 30], ['75', 'COE CODE', 33], ['75', 'MONEY CODE', 37], ['75', 'FISCAL COUNTY', 41], ['75', 'AID CAT CODE', 45], ['75', 'BEN PKG CODE', 49], ['75', 'ORIGIN CODE', 53], ['75', 'RRE CODES', 57], ['75', 'COPAY EXEMPT IND', 60], ['75', 'MED RATE CODE', 63], ['75', 'NAMI', 66], ['75', 'EXCESS', 70], ['75', 'WMS ENROLL/DISENROLL REASON CODE', 74], ['P5', 'MEDICAID', 'FI', '141797357', 82], ['IN', '', '94', '8-DIGIT PLAN ID', 83], ['75', 'FAM IND', 103], ['75', 'COE CODE', 106], ['75', 'MONEY CODE', 110], ['75', 'FISCAL COUNTY', 114], ['75', 'AID CAT CODE', 118], ['75', 'BEN PKG CODE', 122], ['75', 'ORIGIN CODE', 126], ['75', 'COPAY EXEMPT IND', 130], ['75', 'MED RATE CODE', 133], ['75', 'ADDL MAINT REASON', 136], ['75', 'NAMI', 139], ['75', 'EXCESS', 143], ['P5', 'MEDICAID', 'FI', '141797357', 151], ['IN', '', '94', '8-DIGIT PLAN ID', 152], ['75', 'FAM IND', 185], ['75', 'COE CODE', 188], ['75', 'MONEY CODE', 192], ['75', 'FISCAL COUNTY', 196], ['75', 'AID CAT CODE', 200], ['75', 'BEN PKG CODE', 204], ['75', 'BEN PKG CODE', 208], ['75', 'ORIGIN CODE', 212], ['75', 'RECERT DATE', 216], ['75', 'COPAY EXEMPT IND', 219], ['75', 'MED RATE CODE', 222], ['75', 'NAMI', 225], ['75', 'EXCESS', 229], ['75', 'RECERT DATE', 233], ['P5', 'MEDICAID', 'FI', '141797357', 240], ['IN', '', '94', '8-DIGIT PLAN ID', 241], ['75', 'FAM IND', 279], ['75', 'COE CODE', 282], ['75', 'MONEY CODE', 286], ['75', 'FISCAL COUNTY', 290], ['75', 'AID CAT CODE', 294], ['75', 'BEN PKG CODE', 298], ['75', 'ORIGIN CODE', 302], ['75', 'RRE CODES', 306], ['75', 'COPAY EXEMPT IND', 309], ['75', 'TPL CVRG', 312], ['75', 'MED RATE CODE', 315], ['75', 'NAMI', 318], ['75', 'EXCESS', 322], ['75', 'WMS ENROLL/DISENROLL REASON CODE', 326]], 'INS': [['Y', '18', '021', '28', 'A', '', '', 'AC', 8], ['Y', '18', '024', '', 'A', '', '', 'TE', 84], ['Y', '18', '021', '', 'A', '', '', 'AC', 153], ['Y', '18', '021', '28', 'A', '', '', 'AC', 242]], 'REF': [['0F', 'XX99992X', 9], ['17', 'XX99992X', 10], ['3H', '9929999999', 11], ['ABB', 'XX99992X', 12], ['17', 'I', 31], ['17', '30', 34], ['17', '00', 38], ['17', '36029', 42], ['17', '90', 46], ['17', '14', 50], ['17', 'U', 54], ['17', '060809', 58], ['ZZ', 'Y', 61], ['17', '2205', 64], ['9V', '111.00', 67], ['9V', '0.00', 71], ['ZZ', '05', 75], ['0F', 'XX99992X', 85], ['17', 'XX99992X', 86], ['3H', '9929999999', 87], ['ABB', 'XX99992X', 88], ['17', 'I', 104], ['17', '30', 107], ['17', '00', 111], ['17', '36029', 115], ['17', '90', 119], ['17', '14', 123], ['17', 'U', 127], ['ZZ', 'Y', 131], ['17', '2205', 134], ['17', 'TERM', 137], ['9V', '111.00', 140], ['9V', '0.00', 144], ['0F', 'XX99996X', 154], ['1L', 'PLANGRPID99996X', 155], ['17', 'XX99996X', 156], ['23', 'PLANMEMID99996X', 157], ['3H', '9969999999', 158], ['ABB', 'XX99996X', 159], ['ZZ', 'PLANSUBID99996X', 160], ['X9', 'QHPPLCYID99996X', 172], ['17', 'F', 186], ['17', '30', 189], ['17', '00', 193], ['17', '36069', 197], ['17', '91', 201], ['17', '70', 205], ['17', '77', 209], ['17', 'U', 213], ['ZZ', '20201031', 217], ['ZZ', 'N', 220], ['17', '2205', 223], ['9V', '222.00', 226], ['9V', '0', 230], ['ZZ', '20201101', 234], ['0F', 'XX99997X', 243], ['17', 'XX99997X', 244], ['3H', '9979999999', 245], ['ABB', 'XX99997X', 246], ['17', 'I', 280], ['17', '30', 283], ['17', '00', 287], ['17', '66', 291], ['17', '90', 295], ['17', '66', 299], ['17', 'D', 303], ['17', '06', 307], ['ZZ', 'Y', 310], ['ZZ', '9999999999999997-030405060708111314171819202122', 313], ['17', '2205', 316], ['9V', '0.00', 319], ['9V', '0.00', 323], ['ZZ', '02', 327]], 'DTP': [['356', 'D8', '20190101', 13], ['348', 'D8', '20190101', 25], ['007', 'D8', '20190101', 35], ['007', 'D8', '20190101', 39], ['007', 'D8', '20190101', 43], ['007', 'D8', '20190101', 47], ['007', 'D8', '20190101', 51], ['007', 'D8', '20190101', 55], ['007', 'D8', '20190101', 68], ['007', 'D8', '20190101', 72], ['007', 'D8', '20190101', 76], ['356', 'D8', '20190101', 89], ['357', 'D8', '20191130', 90], ['348', 'D8', '20190101', 97], ['349', 'D8', '20191130', 98], ['007', 'RD8', '20190101-20191130', 108], ['007', 'RD8', '20190101-20191130', 112], ['007', 'RD8', '20190101-20191130', 116], ['007', 'RD8', '20190101-20191130', 120], ['007', 'RD8', '20190101-20191130', 124], ['007', 'RD8', '20190101-20191130', 128], ['007', 'D8', '20190101', 141], ['007', 'D8', '20190101', 145], ['356', 'D8', '20180101', 161], ['348', 'D8', '20180101', 171], ['344', 'D8', '20200101', 176], ['345', 'D8', '20201231', 177], ['344', 'D8', '20200101', 180], ['345', 'D8', '20201231', 181], ['007', 'D8', '20180101', 190], ['007', 'D8', '20180101', 194], ['007', 'D8', '20180101', 198], ['007', 'D8', '20180101', 202], ['007', 'RD8', '20180101-20181231', 206], ['007', 'D8', '20190101', 210], ['007', 'D8', '20180101', 214], ['007', 'D8', '20190101', 227], ['007', 'D8', '20190101', 231], ['356', 'D8', '20191201', 247], ['348', 'D8', '20191201', 260], ['344', 'D8', '20191201', 264], ['345', 'D8', '20191231', 265], ['344', 'D8', '20191201', 268], ['345', 'D8', '20191231', 269], ['344', 'D8', '20191201', 272], ['345', 'D8', '20191231', 273], ['007', 'D8', '20191201', 284], ['007', 'D8', '20191201', 288], ['007', 'D8', '20191201', 292], ['007', 'D8', '20191201', 296], ['007', 'D8', '20191201', 300], ['007', 'D8', '20191201', 304], ['007', 'D8', '20191201', 320], ['007', 'D8', '20191201', 324], ['007', 'D8', '20191201', 328]], 'NM1': [['IL', '1', 'SUBSCRIBER 2 LAST NAME', 'SUBSCRIBER 2 FIRST NAME', 'MI', '', '', '34', '999999992', 14], ['31', '1', 21], ['Y2', '2', '', '', '', '', '', 'SV', '8-DIGIT PLAN ID', '72', 27], ['IL', '1', 'SUBSCRIBER 2 LAST NAME', 'SUBSCRIBER 2 FIRST NAME', 'MI', '', '', '34', '999999992', 91], ['Y2', '2', '', '', '', '', '', 'SV', '8-DIGIT PLAN ID', '72', 100], ['IL', '1', 'SUBSCRIBER 6A LAST NAME', 'SUBSCRIBER 6A FIRST NAME', 'MI', '', '', '34', '999999996', 162], ['Y2', '2', '', '', '', '', '', 'SV', '8-DIGIT PLAN ID', '72', 174], ['IN', '2', 'MEDICARE-A', 178], ['IN', '2', 'MEDICARE-B', 182], ['IL', '1', 'SUBSCRIBER 7 LAST NAME', 'SUBSCRIBER 7 FIRST NAME', 'MI', '', '', '34', '999999997', 248], ['31', '1', 256], ['Y2', '2', '', '', '', '', '', 'SV', '8-DIGIT PLAN ID', '72', 262], ['IN', '2', 'MEDICARE-A', 266], ['IN', '2', 'MEDICARE-B', 270], ['IN', '2', 'COMMERCIAL INSURANCE NAME', '', '', '', '', 'NI', '95844', 274]], 'PER': [['IP', '', 'TE', '9999992222', 15], ['IP', '', 'TE', '9999992222', 92], ['IP', '', 'TE', '9999996666', 163], ['IP', '', 'TE', '9999997777', 249]], 'N3': [['122 BEE ST', 'CARE OF NAME FOR SUB 2', 16], ['CARE OF MAILING ADDRESS FOR SUB 2', 'APT BB', 22], ['122 BEE ST', 'CARE OF NAME FOR SUB 2', 93], ['126 FOX ST', 164], ['127 GREEN ST', 'APT 7G', 250], [\"PATIENT'S MAILING ADDRESS\", 257], ['2850 WEST XXXXX BOULEV', 275]], 'N4': [['BNYTOWN', 'NY', '14001', '', 'CY', '36029', 17], ['BNYTOWN', 'NY', '14001', 23], ['BNYTOWN', 'NY', '14001', '', 'CY', '36029', 94], ['FNYTOWN', 'NY', '14456', 165], ['GNYTOWN', 'NY', '10512', '', 'CY', '36079', 251], ['GNYTOWN', 'NY', '10512', 258], ['DETROIT', 'MI', '48202', 276]], 'DMG': [['D8', '20020202', 'F', '', 'C', 18], ['D8', '20020202', 'F', '', 'C', 95], ['D8', '20060606', 'F', '', 'B', 166], ['D8', '20070707', 'F', '', '8', 252]], 'LUI': [['LE', 'FRE', '', '6', 19], ['LE', 'FRE', '', '7', 20], ['LE', 'ENG', '', '6', 167], ['LE', 'ENG', '', '7', 168], ['LE', 'ENG', '', '5', 169], ['LE', 'ITA', '', '5', 253], ['LE', 'ITA', '', '6', 254], ['LE', 'ITA', '', '7', 255]], 'HD': [['021', '', 'HLT', '', 'IND', 24], ['024', '', 'HLT', '', 'IND', 96], ['001', '', 'HLT', '', 'IND', 170], ['021', '', 'HLT', '', 'IND', 259]], 'LX': [['1', 26], ['1', 29], ['2', 32], ['3', 36], ['4', 40], ['5', 44], ['6', 48], ['7', 52], ['8', 56], ['9', 59], ['10', 62], ['11', 65], ['12', 69], ['13', 73], ['1', 99], ['1', 102], ['2', 105], ['3', 109], ['4', 113], ['5', 117], ['6', 121], ['7', 125], ['8', 129], ['9', 132], ['10', 135], ['11', 138], ['12', 142], ['1', 173], ['1', 184], ['2', 187], ['3', 191], ['4', 195], ['5', 199], ['6', 203], ['7', 207], ['8', 211], ['9', 215], ['10', 218], ['11', 221], ['12', 224], ['13', 228], ['14', 232], ['1', 261], ['1', 278], ['2', 281], ['3', 285], ['4', 289], ['5', 293], ['6', 297], ['7', 301], ['8', 305], ['9', 308], ['10', 311], ['11', 314], ['12', 317], ['13', 321], ['14', 325]], 'LS': [['2700', 28], ['2700', 101], ['2700', 183], ['2700', 277]], 'LE': [['2700', 77], ['2700', 146], ['2700', 235], ['2700', 329]], 'SE': [['76', '193310001', 78], ['69', '193310002', 147], ['89', '193310003', 236], ['94', '193310004', 330]], 'COB': [['P', '7AC0Y25NP86', '1', 175], ['P', '7AC0Y25NP66', '1', 179], ['P', '7AC0Y25NP87', '1', 263], ['P', '7AC0Y25NP77', '1', 267], ['S', '9999999999999997', '1', 271]], 'GE': [['4', '193310003', 331]], 'IEA': [['1', '193310003', 332]], '': [[333]]})\n"
     ]
    }
   ],
   "source": [
    "#correct - updated with index of the file - updated put index at last - updated index with i - update remove strip()\n",
    "file_path = \"MCE834Sample_3.txt\"\n",
    "\n",
    "result_dict = defaultdict(list)\n",
    "# Open the file in read mode\n",
    "with open(file_path, \"r\") as file:\n",
    "    data = file.read()\n",
    "    segments = data.split(\"~\")\n",
    "    \n",
    "# for i in segments:\n",
    "#     print(segments.index(i))\n",
    "i = 0 \n",
    "    \n",
    "for segment in segments:\n",
    "    segment_data = segment.split('*')\n",
    "    \n",
    "    #key = segment_data[0].strip() #without strip\n",
    "    key = segment_data[0]\n",
    "    \n",
    "    i += 1 \n",
    "    #values = [value.strip() for value in segment_data[1:]]\n",
    "    values = [value for value in segment_data[1:]] # without stirp()\n",
    "    \n",
    "    #values.insert(0, segments.index(segment))\n",
    "    #values.append(segments.index(segment))\n",
    "    values.append(i)\n",
    "    result_dict[key].append(values)\n",
    "print(result_dict)"
   ]
  },
  {
   "cell_type": "code",
   "execution_count": 14,
   "id": "ad33006b",
   "metadata": {
    "scrolled": true
   },
   "outputs": [
    {
     "name": "stdout",
     "output_type": "stream",
     "text": [
      "ISA*00*          *00*          *ZZ*EMEDNYMCR      *ZZ*8-DIGIT PLAN ID*191127*1410*^*00501*193310003*0*T*:~GS*BE*EMEDNYMCR*ETIN*20191127*141000*193310003*X*005010X220A1~ST*834*193310001*005010X220A1~BGN*00*1933100000000003XF1933100000000001*20191127*141001****2~QTY*TO*1~N1*P5*MEDICAID*FI*141797357~N1*IN**94*8-DIGIT PLAN ID~INS*Y*18*021*28*A***AC~REF*0F*XX99992X~REF*17*XX99992X~REF*3H*9929999999~REF*ABB*XX99992X~DTP*356*D8*20190101~NM1*IL*1*SUBSCRIBER 2 LAST NAME*SUBSCRIBER 2 FIRST NAME*MI***34*999999992~PER*IP**TE*9999992222~N3*122 BEE ST*CARE OF NAME FOR SUB 2~N4*BNYTOWN*NY*14001**CY*36029~DMG*D8*20020202*F**C~LUI*LE*FRE**6~LUI*LE*FRE**7~NM1*31*1~N3*CARE OF MAILING ADDRESS FOR SUB 2*APT BB~N4*BNYTOWN*NY*14001~HD*021**HLT**IND~DTP*348*D8*20190101~LX*1~NM1*Y2*2******SV*8-DIGIT PLAN ID*72~LS*2700~LX*1~N1*75*FAM IND~REF*17*I~LX*2~N1*75*COE CODE~REF*17*30~DTP*007*D8*20190101~LX*3~N1*75*MONEY CODE~REF*17*00~DTP*007*D8*20190101~LX*4~N1*75*FISCAL COUNTY~REF*17*36029~DTP*007*D8*20190101~LX*5~N1*75*AID CAT CODE~REF*17*90~DTP*007*D8*20190101~LX*6~N1*75*BEN PKG CODE~REF*17*14~DTP*007*D8*20190101~LX*7~N1*75*ORIGIN CODE~REF*17*U~DTP*007*D8*20190101~LX*8~N1*75*RRE CODES~REF*17*060809~LX*9~N1*75*COPAY EXEMPT IND~REF*ZZ*Y~LX*10~N1*75*MED RATE CODE~REF*17*2205~LX*11~N1*75*NAMI~REF*9V*111.00~DTP*007*D8*20190101~LX*12~N1*75*EXCESS~REF*9V*0.00~DTP*007*D8*20190101~LX*13~N1*75*WMS ENROLL/DISENROLL REASON CODE~REF*ZZ*05~DTP*007*D8*20190101~LE*2700~SE*76*193310001~ST*834*193310002*005010X220A1~BGN*00*1933100000000003XF1933100000000002*20191127*141002****2~QTY*TO*1~N1*P5*MEDICAID*FI*141797357~N1*IN**94*8-DIGIT PLAN ID~INS*Y*18*024**A***TE~REF*0F*XX99992X~REF*17*XX99992X~REF*3H*9929999999~REF*ABB*XX99992X~DTP*356*D8*20190101~DTP*357*D8*20191130~NM1*IL*1*SUBSCRIBER 2 LAST NAME*SUBSCRIBER 2 FIRST NAME*MI***34*999999992~PER*IP**TE*9999992222~N3*122 BEE ST*CARE OF NAME FOR SUB 2~N4*BNYTOWN*NY*14001**CY*36029~DMG*D8*20020202*F**C~HD*024**HLT**IND~DTP*348*D8*20190101~DTP*349*D8*20191130~LX*1~NM1*Y2*2******SV*8-DIGIT PLAN ID*72~LS*2700~LX*1~N1*75*FAM IND~REF*17*I~LX*2~N1*75*COE CODE~REF*17*30~DTP*007*RD8*20190101-20191130~LX*3~N1*75*MONEY CODE~REF*17*00~DTP*007*RD8*20190101-20191130~LX*4~N1*75*FISCAL COUNTY~REF*17*36029~DTP*007*RD8*20190101-20191130~LX*5~N1*75*AID CAT CODE~REF*17*90~DTP*007*RD8*20190101-20191130~LX*6~N1*75*BEN PKG CODE~REF*17*14~DTP*007*RD8*20190101-20191130~LX*7~N1*75*ORIGIN CODE~REF*17*U~DTP*007*RD8*20190101-20191130~LX*8~N1*75*COPAY EXEMPT IND~REF*ZZ*Y~LX*9~N1*75*MED RATE CODE~REF*17*2205~LX*10~N1*75*ADDL MAINT REASON~REF*17*TERM~LX*11~N1*75*NAMI~REF*9V*111.00~DTP*007*D8*20190101~LX*12~N1*75*EXCESS~REF*9V*0.00~DTP*007*D8*20190101~LE*2700~SE*69*193310002~ST*834*193310003*005010X220A1~BGN*00*1933100000000003XF1933100000000003*20191127*141003****2~QTY*TO*1~N1*P5*MEDICAID*FI*141797357~N1*IN**94*8-DIGIT PLAN ID~INS*Y*18*021**A***AC~REF*0F*XX99996X~REF*1L*PLANGRPID99996X~REF*17*XX99996X~REF*23*PLANMEMID99996X~REF*3H*9969999999~REF*ABB*XX99996X~REF*ZZ*PLANSUBID99996X~DTP*356*D8*20180101~NM1*IL*1*SUBSCRIBER 6A LAST NAME*SUBSCRIBER 6A FIRST NAME*MI***34*999999996~PER*IP**TE*9999996666~N3*126 FOX ST~N4*FNYTOWN*NY*14456~DMG*D8*20060606*F**B~LUI*LE*ENG**6~LUI*LE*ENG**7~LUI*LE*ENG**5~HD*001**HLT**IND~DTP*348*D8*20180101~REF*X9*QHPPLCYID99996X~LX*1~NM1*Y2*2******SV*8-DIGIT PLAN ID*72~COB*P*7AC0Y25NP86*1~DTP*344*D8*20200101~DTP*345*D8*20201231~NM1*IN*2*MEDICARE-A~COB*P*7AC0Y25NP66*1~DTP*344*D8*20200101~DTP*345*D8*20201231~NM1*IN*2*MEDICARE-B~LS*2700~LX*1~N1*75*FAM IND~REF*17*F~LX*2~N1*75*COE CODE~REF*17*30~DTP*007*D8*20180101~LX*3~N1*75*MONEY CODE~REF*17*00~DTP*007*D8*20180101~LX*4~N1*75*FISCAL COUNTY~REF*17*36069~DTP*007*D8*20180101~LX*5~N1*75*AID CAT CODE~REF*17*91~DTP*007*D8*20180101~LX*6~N1*75*BEN PKG CODE~REF*17*70~DTP*007*RD8*20180101-20181231~LX*7~N1*75*BEN PKG CODE~REF*17*77~DTP*007*D8*20190101~LX*8~N1*75*ORIGIN CODE~REF*17*U~DTP*007*D8*20180101~LX*9~N1*75*RECERT DATE~REF*ZZ*20201031~LX*10~N1*75*COPAY EXEMPT IND~REF*ZZ*N~LX*11~N1*75*MED RATE CODE~REF*17*2205~LX*12~N1*75*NAMI~REF*9V*222.00~DTP*007*D8*20190101~LX*13~N1*75*EXCESS~REF*9V*0~DTP*007*D8*20190101~LX*14~N1*75*RECERT DATE~REF*ZZ*20201101~LE*2700~SE*89*193310003~ST*834*193310004*005010X220A1~BGN*00*1933100000000003XF1933100000000004*20191127*141004****2~QTY*TO*1~N1*P5*MEDICAID*FI*141797357~N1*IN**94*8-DIGIT PLAN ID~INS*Y*18*021*28*A***AC~REF*0F*XX99997X~REF*17*XX99997X~REF*3H*9979999999~REF*ABB*XX99997X~DTP*356*D8*20191201~NM1*IL*1*SUBSCRIBER 7 LAST NAME*SUBSCRIBER 7 FIRST NAME*MI***34*999999997~PER*IP**TE*9999997777~N3*127 GREEN ST*APT 7G~N4*GNYTOWN*NY*10512**CY*36079~DMG*D8*20070707*F**8~LUI*LE*ITA**5~LUI*LE*ITA**6~LUI*LE*ITA**7~NM1*31*1~N3*PATIENT'S MAILING ADDRESS~N4*GNYTOWN*NY*10512~HD*021**HLT**IND~DTP*348*D8*20191201~LX*1~NM1*Y2*2******SV*8-DIGIT PLAN ID*72~COB*P*7AC0Y25NP87*1~DTP*344*D8*20191201~DTP*345*D8*20191231~NM1*IN*2*MEDICARE-A~COB*P*7AC0Y25NP77*1~DTP*344*D8*20191201~DTP*345*D8*20191231~NM1*IN*2*MEDICARE-B~COB*S*9999999999999997*1~DTP*344*D8*20191201~DTP*345*D8*20191231~NM1*IN*2*COMMERCIAL INSURANCE NAME*****NI*95844~N3*2850 WEST XXXXX BOULEV~N4*DETROIT*MI*48202~LS*2700~LX*1~N1*75*FAM IND~REF*17*I~LX*2~N1*75*COE CODE~REF*17*30~DTP*007*D8*20191201~LX*3~N1*75*MONEY CODE~REF*17*00~DTP*007*D8*20191201~LX*4~N1*75*FISCAL COUNTY~REF*17*66~DTP*007*D8*20191201~LX*5~N1*75*AID CAT CODE~REF*17*90~DTP*007*D8*20191201~LX*6~N1*75*BEN PKG CODE~REF*17*66~DTP*007*D8*20191201~LX*7~N1*75*ORIGIN CODE~REF*17*D~DTP*007*D8*20191201~LX*8~N1*75*RRE CODES~REF*17*06~LX*9~N1*75*COPAY EXEMPT IND~REF*ZZ*Y~LX*10~N1*75*TPL CVRG~REF*ZZ*9999999999999997-030405060708111314171819202122~LX*11~N1*75*MED RATE CODE~REF*17*2205~LX*12~N1*75*NAMI~REF*9V*0.00~DTP*007*D8*20191201~LX*13~N1*75*EXCESS~REF*9V*0.00~DTP*007*D8*20191201~LX*14~N1*75*WMS ENROLL/DISENROLL REASON CODE~REF*ZZ*02~DTP*007*D8*20191201~LE*2700~SE*94*193310004~GE*4*193310003~IEA*1*193310003~\n"
     ]
    }
   ],
   "source": [
    "# reverse engineering\n",
    "\n",
    "w_file_path = \"/Users/rupakpantha/Downloads/viveka834/rev_MCE834Sample_2.txt\"\n",
    "\n",
    "# Convert the result_dict back to the 834 file format\n",
    "segments = []\n",
    "for key, values in result_dict.items():\n",
    "    for value_set in values:\n",
    "        segment_data = [key] + value_set[:]  # Put -1  to Exclude the last element (position) in the value_set(not done here)\n",
    "        segment = '*'.join(map(str, segment_data))\n",
    "        segments.append(segment)\n",
    "\n",
    "#print(segments)\n",
    "#print(int(segments.split('*')[-1]))\n",
    "# Sort the segments based on the position\n",
    "segments.sort(key=lambda x: int(x.split('*')[-1]))\n",
    "\n",
    "#print(segments)\n",
    "#Remove the positional element from the joined segments\n",
    "segments = [segment.rsplit('*', 1)[0] for segment in segments]\n",
    "\n",
    "#print(segments)\n",
    "\n",
    "#Join the segments with '~' delimiter\n",
    "data = '~'.join(segments)\n",
    "print(data)\n",
    "\n",
    "# Write the data to the file\n",
    "with open(w_file_path, \"w\") as file:\n",
    "     file.write(data)\n",
    "    \n",
    "# segments = []\n",
    "# for key, values in result_dict.items():\n",
    "#     segment_data = [key]\n",
    "#     for value_set in values:\n",
    "#         segment_data.extend(value_set)\n",
    "#     segment = '*'.join(segment_data)\n",
    "#     segments.append(segment)\n",
    "\n"
   ]
  },
  {
   "cell_type": "code",
   "execution_count": 5,
   "id": "e71a2254",
   "metadata": {
    "scrolled": true
   },
   "outputs": [
    {
     "name": "stdout",
     "output_type": "stream",
     "text": [
      "defaultdict(<class 'list'>, {'ISA': [['00', '', '00', '', 'ZZ', 'EMEDNYMCR', 'ZZ', '8-DIGIT PLAN ID', '191127', '1410', '^', '00501', '193310003', '0', 'T', ':']], 'GS': [['BE', 'EMEDNYMCR', 'ETIN', '20191127', '141000', '193310003', 'X', '005010X220A1']], 'ST': [['834', '193310001', '005010X220A1'], ['834', '193310002', '005010X220A1'], ['834', '193310003', '005010X220A1'], ['834', '193310004', '005010X220A1']], 'BGN': [['00', '1933100000000003XF1933100000000001', '20191127', '141001', '', '', '', '2'], ['00', '1933100000000003XF1933100000000002', '20191127', '141002', '', '', '', '2'], ['00', '1933100000000003XF1933100000000003', '20191127', '141003', '', '', '', '2'], ['00', '1933100000000003XF1933100000000004', '20191127', '141004', '', '', '', '2']], 'QTY': [['TO', '1'], ['TO', '1'], ['TO', '1'], ['TO', '1']], 'N1': [['P5', 'MEDICAID', 'FI', '141797357'], ['IN', '', '94', '8-DIGIT PLAN ID'], ['75', 'FAM IND'], ['75', 'COE CODE'], ['75', 'MONEY CODE'], ['75', 'FISCAL COUNTY'], ['75', 'AID CAT CODE'], ['75', 'BEN PKG CODE'], ['75', 'ORIGIN CODE'], ['75', 'RRE CODES'], ['75', 'COPAY EXEMPT IND'], ['75', 'MED RATE CODE'], ['75', 'NAMI'], ['75', 'EXCESS'], ['75', 'WMS ENROLL/DISENROLL REASON CODE'], ['P5', 'MEDICAID', 'FI', '141797357'], ['IN', '', '94', '8-DIGIT PLAN ID'], ['75', 'FAM IND'], ['75', 'COE CODE'], ['75', 'MONEY CODE'], ['75', 'FISCAL COUNTY'], ['75', 'AID CAT CODE'], ['75', 'BEN PKG CODE'], ['75', 'ORIGIN CODE'], ['75', 'COPAY EXEMPT IND'], ['75', 'MED RATE CODE'], ['75', 'ADDL MAINT REASON'], ['75', 'NAMI'], ['75', 'EXCESS'], ['P5', 'MEDICAID', 'FI', '141797357'], ['IN', '', '94', '8-DIGIT PLAN ID'], ['75', 'FAM IND'], ['75', 'COE CODE'], ['75', 'MONEY CODE'], ['75', 'FISCAL COUNTY'], ['75', 'AID CAT CODE'], ['75', 'BEN PKG CODE'], ['75', 'BEN PKG CODE'], ['75', 'ORIGIN CODE'], ['75', 'RECERT DATE'], ['75', 'COPAY EXEMPT IND'], ['75', 'MED RATE CODE'], ['75', 'NAMI'], ['75', 'EXCESS'], ['75', 'RECERT DATE'], ['P5', 'MEDICAID', 'FI', '141797357'], ['IN', '', '94', '8-DIGIT PLAN ID'], ['75', 'FAM IND'], ['75', 'COE CODE'], ['75', 'MONEY CODE'], ['75', 'FISCAL COUNTY'], ['75', 'AID CAT CODE'], ['75', 'BEN PKG CODE'], ['75', 'ORIGIN CODE'], ['75', 'RRE CODES'], ['75', 'COPAY EXEMPT IND'], ['75', 'TPL CVRG'], ['75', 'MED RATE CODE'], ['75', 'NAMI'], ['75', 'EXCESS'], ['75', 'WMS ENROLL/DISENROLL REASON CODE']], 'INS': [['Y', '18', '021', '28', 'A', '', '', 'AC'], ['Y', '18', '024', '', 'A', '', '', 'TE'], ['Y', '18', '021', '', 'A', '', '', 'AC'], ['Y', '18', '021', '28', 'A', '', '', 'AC']], 'REF': [['0F', 'XX99992X'], ['17', 'XX99992X'], ['3H', '9929999999'], ['ABB', 'XX99992X'], ['17', 'I'], ['17', '30'], ['17', '00'], ['17', '36029'], ['17', '90'], ['17', '14'], ['17', 'U'], ['17', '060809'], ['ZZ', 'Y'], ['17', '2205'], ['9V', '111.00'], ['9V', '0.00'], ['ZZ', '05'], ['0F', 'XX99992X'], ['17', 'XX99992X'], ['3H', '9929999999'], ['ABB', 'XX99992X'], ['17', 'I'], ['17', '30'], ['17', '00'], ['17', '36029'], ['17', '90'], ['17', '14'], ['17', 'U'], ['ZZ', 'Y'], ['17', '2205'], ['17', 'TERM'], ['9V', '111.00'], ['9V', '0.00'], ['0F', 'XX99996X'], ['1L', 'PLANGRPID99996X'], ['17', 'XX99996X'], ['23', 'PLANMEMID99996X'], ['3H', '9969999999'], ['ABB', 'XX99996X'], ['ZZ', 'PLANSUBID99996X'], ['X9', 'QHPPLCYID99996X'], ['17', 'F'], ['17', '30'], ['17', '00'], ['17', '36069'], ['17', '91'], ['17', '70'], ['17', '77'], ['17', 'U'], ['ZZ', '20201031'], ['ZZ', 'N'], ['17', '2205'], ['9V', '222.00'], ['9V', '0'], ['ZZ', '20201101'], ['0F', 'XX99997X'], ['17', 'XX99997X'], ['3H', '9979999999'], ['ABB', 'XX99997X'], ['17', 'I'], ['17', '30'], ['17', '00'], ['17', '66'], ['17', '90'], ['17', '66'], ['17', 'D'], ['17', '06'], ['ZZ', 'Y'], ['ZZ', '9999999999999997-030405060708111314171819202122'], ['17', '2205'], ['9V', '0.00'], ['9V', '0.00'], ['ZZ', '02']], 'DTP': [['356', 'D8', '20190101'], ['348', 'D8', '20190101'], ['007', 'D8', '20190101'], ['007', 'D8', '20190101'], ['007', 'D8', '20190101'], ['007', 'D8', '20190101'], ['007', 'D8', '20190101'], ['007', 'D8', '20190101'], ['007', 'D8', '20190101'], ['007', 'D8', '20190101'], ['007', 'D8', '20190101'], ['356', 'D8', '20190101'], ['357', 'D8', '20191130'], ['348', 'D8', '20190101'], ['349', 'D8', '20191130'], ['007', 'RD8', '20190101-20191130'], ['007', 'RD8', '20190101-20191130'], ['007', 'RD8', '20190101-20191130'], ['007', 'RD8', '20190101-20191130'], ['007', 'RD8', '20190101-20191130'], ['007', 'RD8', '20190101-20191130'], ['007', 'D8', '20190101'], ['007', 'D8', '20190101'], ['356', 'D8', '20180101'], ['348', 'D8', '20180101'], ['344', 'D8', '20200101'], ['345', 'D8', '20201231'], ['344', 'D8', '20200101'], ['345', 'D8', '20201231'], ['007', 'D8', '20180101'], ['007', 'D8', '20180101'], ['007', 'D8', '20180101'], ['007', 'D8', '20180101'], ['007', 'RD8', '20180101-20181231'], ['007', 'D8', '20190101'], ['007', 'D8', '20180101'], ['007', 'D8', '20190101'], ['007', 'D8', '20190101'], ['356', 'D8', '20191201'], ['348', 'D8', '20191201'], ['344', 'D8', '20191201'], ['345', 'D8', '20191231'], ['344', 'D8', '20191201'], ['345', 'D8', '20191231'], ['344', 'D8', '20191201'], ['345', 'D8', '20191231'], ['007', 'D8', '20191201'], ['007', 'D8', '20191201'], ['007', 'D8', '20191201'], ['007', 'D8', '20191201'], ['007', 'D8', '20191201'], ['007', 'D8', '20191201'], ['007', 'D8', '20191201'], ['007', 'D8', '20191201'], ['007', 'D8', '20191201']], 'NM1': [['IL', '1', 'SUBSCRIBER 2 LAST NAME', 'SUBSCRIBER 2 FIRST NAME', 'MI', '', '', '34', '999999992'], ['31', '1'], ['Y2', '2', '', '', '', '', '', 'SV', '8-DIGIT PLAN ID', '72'], ['IL', '1', 'SUBSCRIBER 2 LAST NAME', 'SUBSCRIBER 2 FIRST NAME', 'MI', '', '', '34', '999999992'], ['Y2', '2', '', '', '', '', '', 'SV', '8-DIGIT PLAN ID', '72'], ['IL', '1', 'SUBSCRIBER 6A LAST NAME', 'SUBSCRIBER 6A FIRST NAME', 'MI', '', '', '34', '999999996'], ['Y2', '2', '', '', '', '', '', 'SV', '8-DIGIT PLAN ID', '72'], ['IN', '2', 'MEDICARE-A'], ['IN', '2', 'MEDICARE-B'], ['IL', '1', 'SUBSCRIBER 7 LAST NAME', 'SUBSCRIBER 7 FIRST NAME', 'MI', '', '', '34', '999999997'], ['31', '1'], ['Y2', '2', '', '', '', '', '', 'SV', '8-DIGIT PLAN ID', '72'], ['IN', '2', 'MEDICARE-A'], ['IN', '2', 'MEDICARE-B'], ['IN', '2', 'COMMERCIAL INSURANCE NAME', '', '', '', '', 'NI', '95844']], 'PER': [['IP', '', 'TE', '9999992222'], ['IP', '', 'TE', '9999992222'], ['IP', '', 'TE', '9999996666'], ['IP', '', 'TE', '9999997777']], 'N3': [['122 BEE ST', 'CARE OF NAME FOR SUB 2'], ['CARE OF MAILING ADDRESS FOR SUB 2', 'APT BB'], ['122 BEE ST', 'CARE OF NAME FOR SUB 2'], ['126 FOX ST'], ['127 GREEN ST', 'APT 7G'], [\"PATIENT'S MAILING ADDRESS\"], ['2850 WEST XXXXX BOULEV']], 'N4': [['BNYTOWN', 'NY', '14001', '', 'CY', '36029'], ['BNYTOWN', 'NY', '14001'], ['BNYTOWN', 'NY', '14001', '', 'CY', '36029'], ['FNYTOWN', 'NY', '14456'], ['GNYTOWN', 'NY', '10512', '', 'CY', '36079'], ['GNYTOWN', 'NY', '10512'], ['DETROIT', 'MI', '48202']], 'DMG': [['D8', '20020202', 'F', '', 'C'], ['D8', '20020202', 'F', '', 'C'], ['D8', '20060606', 'F', '', 'B'], ['D8', '20070707', 'F', '', '8']], 'LUI': [['LE', 'FRE', '', '6'], ['LE', 'FRE', '', '7'], ['LE', 'ENG', '', '6'], ['LE', 'ENG', '', '7'], ['LE', 'ENG', '', '5'], ['LE', 'ITA', '', '5'], ['LE', 'ITA', '', '6'], ['LE', 'ITA', '', '7']], 'HD': [['021', '', 'HLT', '', 'IND'], ['024', '', 'HLT', '', 'IND'], ['001', '', 'HLT', '', 'IND'], ['021', '', 'HLT', '', 'IND']], 'LX': [['1'], ['1'], ['2'], ['3'], ['4'], ['5'], ['6'], ['7'], ['8'], ['9'], ['10'], ['11'], ['12'], ['13'], ['1'], ['1'], ['2'], ['3'], ['4'], ['5'], ['6'], ['7'], ['8'], ['9'], ['10'], ['11'], ['12'], ['1'], ['1'], ['2'], ['3'], ['4'], ['5'], ['6'], ['7'], ['8'], ['9'], ['10'], ['11'], ['12'], ['13'], ['14'], ['1'], ['1'], ['2'], ['3'], ['4'], ['5'], ['6'], ['7'], ['8'], ['9'], ['10'], ['11'], ['12'], ['13'], ['14']], 'LS': [['2700'], ['2700'], ['2700'], ['2700']], 'LE': [['2700'], ['2700'], ['2700'], ['2700']], 'SE': [['76', '193310001'], ['69', '193310002'], ['89', '193310003'], ['94', '193310004']], 'COB': [['P', '7AC0Y25NP86', '1'], ['P', '7AC0Y25NP66', '1'], ['P', '7AC0Y25NP87', '1'], ['P', '7AC0Y25NP77', '1'], ['S', '9999999999999997', '1']], 'GE': [['4', '193310003']], 'IEA': [['1', '193310003']], '': [[]]})\n"
     ]
    }
   ],
   "source": [
    "#correct \n",
    "file_path = \"/Users/rupakpantha/Downloads/viveka834/MCE834Sample_3.txt\"\n",
    "\n",
    "result_dict = defaultdict(list)\n",
    "# Open the file in read mode\n",
    "with open(file_path, \"r\") as file:\n",
    "    data = file.read()\n",
    "    segments = data.split(\"~\")\n",
    "    \n",
    "for segment in segments:\n",
    "    segment_data = segment.split('*')\n",
    "    key = segment_data[0].strip()\n",
    "    values = [value.strip() for value in segment_data[1:]]\n",
    "    result_dict[key].append(values)\n",
    "print(result_dict)\n"
   ]
  },
  {
   "cell_type": "code",
   "execution_count": 6,
   "id": "71896704",
   "metadata": {},
   "outputs": [],
   "source": [
    "#correct - updated to list with index - updated index to last - updated index with i = 0\n",
    "\n",
    "class edi:\n",
    "    def __init__(self, file_path):\n",
    "        self.file_path = file_path\n",
    "        self.segments = []\n",
    "        with open(file_path, \"r\") as f:\n",
    "            data = f.read()\n",
    "            self.segments = data.split(\"~\")\n",
    "            \n",
    "#             for line in f:\n",
    "#                 line.strip()\n",
    "#                 self.lines.append(line)\n",
    "#             #print(self.lines)\n",
    "        self.result_dict = defaultdict(list)\n",
    "        \n",
    "    \n",
    "    def parse(self):\n",
    "        i=0\n",
    "        for segment in self.segments:\n",
    "            segment_data = segment.split('*')\n",
    "            key = segment_data[0].strip()\n",
    "            i+=1\n",
    "            values = [value.strip() for value in segment_data[1:]]\n",
    "#             values.insert(0, self.segments.index(segment))\n",
    "            #values.append(self.segments.index(segment))\n",
    "            values.append(i)\n",
    "            self.result_dict[key].append(values)\n",
    "            \n",
    "        return self.result_dict\n",
    "\n",
    "#    file_path = \"/Users/rupakpantha/Downloads/viveka834/MCE834Sample_2.txt\"\n",
    "\n",
    "# # Open the file in read mode\n",
    "# with open(file_path, \"r\") as file:\n",
    "#     data = file.read()\n",
    "#     segments = data.split(\"~\")\n",
    "    \n",
    "# # for i in segments:\n",
    "# #     print(segments.index(i))\n",
    "    \n",
    "# for segment in segments:\n",
    "#     segment_data = segment.split('*')\n",
    "#     key = segment_data[0].strip()\n",
    "    \n",
    "#     values = [value.strip() for value in segment_data[1:]]\n",
    "#     values.insert(0, segments.index(segment))\n",
    "#     result_dict[key].append(values)\n",
    "# print(result_dict)\n",
    "\n",
    "\n"
   ]
  },
  {
   "cell_type": "code",
   "execution_count": 7,
   "id": "9d770488",
   "metadata": {},
   "outputs": [
    {
     "name": "stdout",
     "output_type": "stream",
     "text": [
      "['INS*Y*18*030*XN*A*E**FT', '\\nREF*OF*152239999', '\\nREF*1L*Blue', '\\nDTP*336*D8*20070101', '\\nNM1*IL*1*BLUTH*LUCILLE****34*152239999', '\\nN3*224 N DES PLAINES*6TH FLOOR', '\\nN4*CHICAGO*IL*60661*USA', '\\nDMG*D8*19720121*F*M', '\\nHD*030**VIS**EMP', '\\nDTP*348*D8*20111016', '\\nINS*N*19*030*XN*A*E***N*N', '\\nREF*OF*152239999', '\\nREF*1L*Blue', '\\nDTP*357*D8*20111015', '\\nNM1*IL*1*BLUTH*BUSTER', '\\nN3*224 N DES PLAINES*6TH FLOOR', '\\nN4*CHICAGO*IL*60661*USA', '\\nDMG*D**19911015*M-HD*030**VIS', '\\nDTP*348*D8*20110101', '\\nDTP*349*D8*20111015', '']\n"
     ]
    }
   ],
   "source": [
    "file_path = \"/Users/rupakpantha/Downloads/viveka834/sample.txt\"\n",
    "file = edi(file_path)\n",
    "print(file.segments)"
   ]
  },
  {
   "cell_type": "code",
   "execution_count": 8,
   "id": "f6fe8899",
   "metadata": {
    "scrolled": true
   },
   "outputs": [
    {
     "name": "stdout",
     "output_type": "stream",
     "text": [
      "defaultdict(<class 'list'>, {'INS': [['Y', '18', '030', 'XN', 'A', 'E', '', 'FT', 1], ['N', '19', '030', 'XN', 'A', 'E', '', '', 'N', 'N', 11]], 'REF': [['OF', '152239999', 2], ['1L', 'Blue', 3], ['OF', '152239999', 12], ['1L', 'Blue', 13]], 'DTP': [['336', 'D8', '20070101', 4], ['348', 'D8', '20111016', 10], ['357', 'D8', '20111015', 14], ['348', 'D8', '20110101', 19], ['349', 'D8', '20111015', 20]], 'NM1': [['IL', '1', 'BLUTH', 'LUCILLE', '', '', '', '34', '152239999', 5], ['IL', '1', 'BLUTH', 'BUSTER', 15]], 'N3': [['224 N DES PLAINES', '6TH FLOOR', 6], ['224 N DES PLAINES', '6TH FLOOR', 16]], 'N4': [['CHICAGO', 'IL', '60661', 'USA', 7], ['CHICAGO', 'IL', '60661', 'USA', 17]], 'DMG': [['D8', '19720121', 'F', 'M', 8], ['D', '', '19911015', 'M-HD', '030', '', 'VIS', 18]], 'HD': [['030', '', 'VIS', '', 'EMP', 9]], '': [[21]]})\n"
     ]
    }
   ],
   "source": [
    "file_path = \"/Users/rupakpantha/Downloads/viveka834/sample.txt\"\n",
    "file = edi(file_path)\n",
    "data = file.parse()\n",
    "\n",
    "print(data)"
   ]
  },
  {
   "cell_type": "code",
   "execution_count": 9,
   "id": "e5f5cf01",
   "metadata": {
    "scrolled": true
   },
   "outputs": [
    {
     "name": "stdout",
     "output_type": "stream",
     "text": [
      "defaultdict(<class 'list'>, {'ISA': [['00', '', '00', '', 'ZZ', 'EMEDNYMCR', 'ZZ', '8-DIGIT PLAN ID', '191127', '1410', '^', '00501', '193310003', '0', 'T', ':', 1]], 'GS': [['BE', 'EMEDNYMCR', 'ETIN', '20191127', '141000', '193310003', 'X', '005010X220A1', 2]], 'ST': [['834', '193310001', '005010X220A1', 3], ['834', '193310002', '005010X220A1', 79], ['834', '193310003', '005010X220A1', 148], ['834', '193310004', '005010X220A1', 237]], 'BGN': [['00', '1933100000000003XF1933100000000001', '20191127', '141001', '', '', '', '2', 4], ['00', '1933100000000003XF1933100000000002', '20191127', '141002', '', '', '', '2', 80], ['00', '1933100000000003XF1933100000000003', '20191127', '141003', '', '', '', '2', 149], ['00', '1933100000000003XF1933100000000004', '20191127', '141004', '', '', '', '2', 238]], 'QTY': [['TO', '1', 5], ['TO', '1', 81], ['TO', '1', 150], ['TO', '1', 239]], 'N1': [['P5', 'MEDICAID', 'FI', '141797357', 6], ['IN', '', '94', '8-DIGIT PLAN ID', 7], ['75', 'FAM IND', 30], ['75', 'COE CODE', 33], ['75', 'MONEY CODE', 37], ['75', 'FISCAL COUNTY', 41], ['75', 'AID CAT CODE', 45], ['75', 'BEN PKG CODE', 49], ['75', 'ORIGIN CODE', 53], ['75', 'RRE CODES', 57], ['75', 'COPAY EXEMPT IND', 60], ['75', 'MED RATE CODE', 63], ['75', 'NAMI', 66], ['75', 'EXCESS', 70], ['75', 'WMS ENROLL/DISENROLL REASON CODE', 74], ['P5', 'MEDICAID', 'FI', '141797357', 82], ['IN', '', '94', '8-DIGIT PLAN ID', 83], ['75', 'FAM IND', 103], ['75', 'COE CODE', 106], ['75', 'MONEY CODE', 110], ['75', 'FISCAL COUNTY', 114], ['75', 'AID CAT CODE', 118], ['75', 'BEN PKG CODE', 122], ['75', 'ORIGIN CODE', 126], ['75', 'COPAY EXEMPT IND', 130], ['75', 'MED RATE CODE', 133], ['75', 'ADDL MAINT REASON', 136], ['75', 'NAMI', 139], ['75', 'EXCESS', 143], ['P5', 'MEDICAID', 'FI', '141797357', 151], ['IN', '', '94', '8-DIGIT PLAN ID', 152], ['75', 'FAM IND', 185], ['75', 'COE CODE', 188], ['75', 'MONEY CODE', 192], ['75', 'FISCAL COUNTY', 196], ['75', 'AID CAT CODE', 200], ['75', 'BEN PKG CODE', 204], ['75', 'BEN PKG CODE', 208], ['75', 'ORIGIN CODE', 212], ['75', 'RECERT DATE', 216], ['75', 'COPAY EXEMPT IND', 219], ['75', 'MED RATE CODE', 222], ['75', 'NAMI', 225], ['75', 'EXCESS', 229], ['75', 'RECERT DATE', 233], ['P5', 'MEDICAID', 'FI', '141797357', 240], ['IN', '', '94', '8-DIGIT PLAN ID', 241], ['75', 'FAM IND', 279], ['75', 'COE CODE', 282], ['75', 'MONEY CODE', 286], ['75', 'FISCAL COUNTY', 290], ['75', 'AID CAT CODE', 294], ['75', 'BEN PKG CODE', 298], ['75', 'ORIGIN CODE', 302], ['75', 'RRE CODES', 306], ['75', 'COPAY EXEMPT IND', 309], ['75', 'TPL CVRG', 312], ['75', 'MED RATE CODE', 315], ['75', 'NAMI', 318], ['75', 'EXCESS', 322], ['75', 'WMS ENROLL/DISENROLL REASON CODE', 326]], 'INS': [['Y', '18', '021', '28', 'A', '', '', 'AC', 8], ['Y', '18', '024', '', 'A', '', '', 'TE', 84], ['Y', '18', '021', '', 'A', '', '', 'AC', 153], ['Y', '18', '021', '28', 'A', '', '', 'AC', 242]], 'REF': [['0F', 'XX99992X', 9], ['17', 'XX99992X', 10], ['3H', '9929999999', 11], ['ABB', 'XX99992X', 12], ['17', 'I', 31], ['17', '30', 34], ['17', '00', 38], ['17', '36029', 42], ['17', '90', 46], ['17', '14', 50], ['17', 'U', 54], ['17', '060809', 58], ['ZZ', 'Y', 61], ['17', '2205', 64], ['9V', '111.00', 67], ['9V', '0.00', 71], ['ZZ', '05', 75], ['0F', 'XX99992X', 85], ['17', 'XX99992X', 86], ['3H', '9929999999', 87], ['ABB', 'XX99992X', 88], ['17', 'I', 104], ['17', '30', 107], ['17', '00', 111], ['17', '36029', 115], ['17', '90', 119], ['17', '14', 123], ['17', 'U', 127], ['ZZ', 'Y', 131], ['17', '2205', 134], ['17', 'TERM', 137], ['9V', '111.00', 140], ['9V', '0.00', 144], ['0F', 'XX99996X', 154], ['1L', 'PLANGRPID99996X', 155], ['17', 'XX99996X', 156], ['23', 'PLANMEMID99996X', 157], ['3H', '9969999999', 158], ['ABB', 'XX99996X', 159], ['ZZ', 'PLANSUBID99996X', 160], ['X9', 'QHPPLCYID99996X', 172], ['17', 'F', 186], ['17', '30', 189], ['17', '00', 193], ['17', '36069', 197], ['17', '91', 201], ['17', '70', 205], ['17', '77', 209], ['17', 'U', 213], ['ZZ', '20201031', 217], ['ZZ', 'N', 220], ['17', '2205', 223], ['9V', '222.00', 226], ['9V', '0', 230], ['ZZ', '20201101', 234], ['0F', 'XX99997X', 243], ['17', 'XX99997X', 244], ['3H', '9979999999', 245], ['ABB', 'XX99997X', 246], ['17', 'I', 280], ['17', '30', 283], ['17', '00', 287], ['17', '66', 291], ['17', '90', 295], ['17', '66', 299], ['17', 'D', 303], ['17', '06', 307], ['ZZ', 'Y', 310], ['ZZ', '9999999999999997-030405060708111314171819202122', 313], ['17', '2205', 316], ['9V', '0.00', 319], ['9V', '0.00', 323], ['ZZ', '02', 327]], 'DTP': [['356', 'D8', '20190101', 13], ['348', 'D8', '20190101', 25], ['007', 'D8', '20190101', 35], ['007', 'D8', '20190101', 39], ['007', 'D8', '20190101', 43], ['007', 'D8', '20190101', 47], ['007', 'D8', '20190101', 51], ['007', 'D8', '20190101', 55], ['007', 'D8', '20190101', 68], ['007', 'D8', '20190101', 72], ['007', 'D8', '20190101', 76], ['356', 'D8', '20190101', 89], ['357', 'D8', '20191130', 90], ['348', 'D8', '20190101', 97], ['349', 'D8', '20191130', 98], ['007', 'RD8', '20190101-20191130', 108], ['007', 'RD8', '20190101-20191130', 112], ['007', 'RD8', '20190101-20191130', 116], ['007', 'RD8', '20190101-20191130', 120], ['007', 'RD8', '20190101-20191130', 124], ['007', 'RD8', '20190101-20191130', 128], ['007', 'D8', '20190101', 141], ['007', 'D8', '20190101', 145], ['356', 'D8', '20180101', 161], ['348', 'D8', '20180101', 171], ['344', 'D8', '20200101', 176], ['345', 'D8', '20201231', 177], ['344', 'D8', '20200101', 180], ['345', 'D8', '20201231', 181], ['007', 'D8', '20180101', 190], ['007', 'D8', '20180101', 194], ['007', 'D8', '20180101', 198], ['007', 'D8', '20180101', 202], ['007', 'RD8', '20180101-20181231', 206], ['007', 'D8', '20190101', 210], ['007', 'D8', '20180101', 214], ['007', 'D8', '20190101', 227], ['007', 'D8', '20190101', 231], ['356', 'D8', '20191201', 247], ['348', 'D8', '20191201', 260], ['344', 'D8', '20191201', 264], ['345', 'D8', '20191231', 265], ['344', 'D8', '20191201', 268], ['345', 'D8', '20191231', 269], ['344', 'D8', '20191201', 272], ['345', 'D8', '20191231', 273], ['007', 'D8', '20191201', 284], ['007', 'D8', '20191201', 288], ['007', 'D8', '20191201', 292], ['007', 'D8', '20191201', 296], ['007', 'D8', '20191201', 300], ['007', 'D8', '20191201', 304], ['007', 'D8', '20191201', 320], ['007', 'D8', '20191201', 324], ['007', 'D8', '20191201', 328]], 'NM1': [['IL', '1', 'SUBSCRIBER 2 LAST NAME', 'SUBSCRIBER 2 FIRST NAME', 'MI', '', '', '34', '999999992', 14], ['31', '1', 21], ['Y2', '2', '', '', '', '', '', 'SV', '8-DIGIT PLAN ID', '72', 27], ['IL', '1', 'SUBSCRIBER 2 LAST NAME', 'SUBSCRIBER 2 FIRST NAME', 'MI', '', '', '34', '999999992', 91], ['Y2', '2', '', '', '', '', '', 'SV', '8-DIGIT PLAN ID', '72', 100], ['IL', '1', 'SUBSCRIBER 6A LAST NAME', 'SUBSCRIBER 6A FIRST NAME', 'MI', '', '', '34', '999999996', 162], ['Y2', '2', '', '', '', '', '', 'SV', '8-DIGIT PLAN ID', '72', 174], ['IN', '2', 'MEDICARE-A', 178], ['IN', '2', 'MEDICARE-B', 182], ['IL', '1', 'SUBSCRIBER 7 LAST NAME', 'SUBSCRIBER 7 FIRST NAME', 'MI', '', '', '34', '999999997', 248], ['31', '1', 256], ['Y2', '2', '', '', '', '', '', 'SV', '8-DIGIT PLAN ID', '72', 262], ['IN', '2', 'MEDICARE-A', 266], ['IN', '2', 'MEDICARE-B', 270], ['IN', '2', 'COMMERCIAL INSURANCE NAME', '', '', '', '', 'NI', '95844', 274]], 'PER': [['IP', '', 'TE', '9999992222', 15], ['IP', '', 'TE', '9999992222', 92], ['IP', '', 'TE', '9999996666', 163], ['IP', '', 'TE', '9999997777', 249]], 'N3': [['122 BEE ST', 'CARE OF NAME FOR SUB 2', 16], ['CARE OF MAILING ADDRESS FOR SUB 2', 'APT BB', 22], ['122 BEE ST', 'CARE OF NAME FOR SUB 2', 93], ['126 FOX ST', 164], ['127 GREEN ST', 'APT 7G', 250], [\"PATIENT'S MAILING ADDRESS\", 257], ['2850 WEST XXXXX BOULEV', 275]], 'N4': [['BNYTOWN', 'NY', '14001', '', 'CY', '36029', 17], ['BNYTOWN', 'NY', '14001', 23], ['BNYTOWN', 'NY', '14001', '', 'CY', '36029', 94], ['FNYTOWN', 'NY', '14456', 165], ['GNYTOWN', 'NY', '10512', '', 'CY', '36079', 251], ['GNYTOWN', 'NY', '10512', 258], ['DETROIT', 'MI', '48202', 276]], 'DMG': [['D8', '20020202', 'F', '', 'C', 18], ['D8', '20020202', 'F', '', 'C', 95], ['D8', '20060606', 'F', '', 'B', 166], ['D8', '20070707', 'F', '', '8', 252]], 'LUI': [['LE', 'FRE', '', '6', 19], ['LE', 'FRE', '', '7', 20], ['LE', 'ENG', '', '6', 167], ['LE', 'ENG', '', '7', 168], ['LE', 'ENG', '', '5', 169], ['LE', 'ITA', '', '5', 253], ['LE', 'ITA', '', '6', 254], ['LE', 'ITA', '', '7', 255]], 'HD': [['021', '', 'HLT', '', 'IND', 24], ['024', '', 'HLT', '', 'IND', 96], ['001', '', 'HLT', '', 'IND', 170], ['021', '', 'HLT', '', 'IND', 259]], 'LX': [['1', 26], ['1', 29], ['2', 32], ['3', 36], ['4', 40], ['5', 44], ['6', 48], ['7', 52], ['8', 56], ['9', 59], ['10', 62], ['11', 65], ['12', 69], ['13', 73], ['1', 99], ['1', 102], ['2', 105], ['3', 109], ['4', 113], ['5', 117], ['6', 121], ['7', 125], ['8', 129], ['9', 132], ['10', 135], ['11', 138], ['12', 142], ['1', 173], ['1', 184], ['2', 187], ['3', 191], ['4', 195], ['5', 199], ['6', 203], ['7', 207], ['8', 211], ['9', 215], ['10', 218], ['11', 221], ['12', 224], ['13', 228], ['14', 232], ['1', 261], ['1', 278], ['2', 281], ['3', 285], ['4', 289], ['5', 293], ['6', 297], ['7', 301], ['8', 305], ['9', 308], ['10', 311], ['11', 314], ['12', 317], ['13', 321], ['14', 325]], 'LS': [['2700', 28], ['2700', 101], ['2700', 183], ['2700', 277]], 'LE': [['2700', 77], ['2700', 146], ['2700', 235], ['2700', 329]], 'SE': [['76', '193310001', 78], ['69', '193310002', 147], ['89', '193310003', 236], ['94', '193310004', 330]], 'COB': [['P', '7AC0Y25NP86', '1', 175], ['P', '7AC0Y25NP66', '1', 179], ['P', '7AC0Y25NP87', '1', 263], ['P', '7AC0Y25NP77', '1', 267], ['S', '9999999999999997', '1', 271]], 'GE': [['4', '193310003', 331]], 'IEA': [['1', '193310003', 332]], '': [[333]]})\n"
     ]
    }
   ],
   "source": [
    "file_path = \"/Users/rupakpantha/Downloads/viveka834/MCE834Sample_3.txt\"\n",
    "file1 = edi(file_path)\n",
    "data = file1.parse()\n",
    "\n",
    "print(data)"
   ]
  },
  {
   "cell_type": "code",
   "execution_count": 10,
   "id": "4dc633b9",
   "metadata": {
    "scrolled": true
   },
   "outputs": [
    {
     "name": "stdout",
     "output_type": "stream",
     "text": [
      "defaultdict(<class 'list'>, {'ISA': [['00', '', '00', '', 'ZZ', 'EMEDNYVER', 'ZZ', '8-DIGIT PLAN ID', '191119', '2020', '^', '00501', '193230001', '0', 'T', ':', 1]], 'GS': [['BE', 'EMEDNYVER', 'ETIN', '20191119', '202000', '193230001', 'X', '005010X220A1', 2]], 'ST': [['834', '193230001', '005010X220A1', 3], ['834', '193230002', '005010X220A1', 88], ['834', '193230003', '005010X220A1', 180]], 'BGN': [['00', '1932300000000011XF1932300000000001', '20191119', '202004', '', '', '', '4', 4], ['00', '1932300000000011XF1932300000000002', '20191119', '202005', '', '', '', '4', 89], ['00', '1932300000000011XF1932300000000003', '20191119', '202007', '', '', '', '4', 181]], 'QTY': [['TO', '1', 5], ['TO', '1', 90], ['TO', '1', 182]], 'N1': [['P5', 'MEDICAID', 'FI', '141797357', 6], ['IN', '', '94', '8-DIGIT PLAN ID', 7], ['75', 'FAM IND', 33], ['75', 'COE CODE', 36], ['75', 'MONEY CODE', 40], ['75', 'FISCAL COUNTY', 44], ['75', 'AID CAT CODE', 48], ['75', 'BEN PKG CODE', 52], ['75', 'BEN PKG CODE', 56], ['75', 'ORIGIN CODE', 60], ['75', 'RECERT DATE', 64], ['75', 'RRE CODES', 67], ['75', 'COPAY EXEMPT IND', 70], ['75', 'MED RATE CODE', 73], ['75', 'TPL CVRG', 76], ['75', 'NAMI/EXCESS MSG', 79], ['75', 'WMS ENROLL/DISENROLL REASON CODE', 83], ['P5', 'MEDICAID', 'FI', '141797357', 91], ['IN', '', '94', '8-DIGIT PLAN ID', 92], ['75', 'FAM IND', 119], ['75', 'COE CODE', 122], ['75', 'MONEY CODE', 126], ['75', 'FISCAL COUNTY', 130], ['75', 'AID CAT CODE', 134], ['75', 'BEN PKG CODE', 138], ['75', 'BEN PKG CODE', 142], ['75', 'ORIGIN CODE', 146], ['75', 'COPAY EXEMPT IND', 150], ['75', 'MED RATE CODE', 153], ['75', 'NAMI', 156], ['75', 'EXCESS', 160], ['75', 'WMS ENROLL/DISENROLL REASON CODE', 164], ['75', 'DISABILITY ACCOMMODATION INDICATOR', 168], ['75', 'LOW INCOME SUBSIDY CVRG', 171], ['75', 'MEDICARE PART-D', 175], ['P5', 'MEDICAID', 'FI', '141797357', 183], ['IN', '', '94', '8-DIGIT PLAN ID', 184], ['75', 'FAM IND', 202], ['75', 'COE CODE', 205], ['75', 'MONEY CODE', 209], ['75', 'FISCAL COUNTY', 213], ['75', 'AID CAT CODE', 217], ['75', 'BEN PKG CODE', 221], ['75', 'ORIGIN CODE', 225], ['75', 'COPAY EXEMPT IND', 229], ['75', 'MED RATE CODE', 232], ['75', 'NAMI', 235], ['75', 'EXCESS', 239], ['75', 'WMS ENROLL/DISENROLL REASON CODE', 243]], 'INS': [['Y', '18', '030', '', 'A', 8], ['Y', '18', '030', '', 'A', 93], ['Y', '18', '030', '', 'A', 185]], 'REF': [['0F', 'XX99996X', 9], ['17', 'XX99996X', 10], ['3H', '9969999999', 11], ['ABB', 'XX99996X', 12], ['17', 'F', 34], ['17', '30', 37], ['17', '00', 41], ['17', '36069', 45], ['17', '91', 49], ['17', '70', 53], ['17', '77', 57], ['17', 'U', 61], ['ZZ', '20191031', 65], ['17', '02', 68], ['ZZ', 'N', 71], ['17', '2205', 74], ['ZZ', '1923000000000001-030405060708111314171819202122', 77], ['17', 'CONTACT DISTRICT FOR INFORMATION ON SPENDDOWN/NAMI', 80], ['ZZ', '02', 84], ['0F', 'XX99994X', 94], ['17', 'XX99994X', 95], ['3H', '9949999999', 96], ['ABB', 'XX99994X', 97], ['17', 'F', 120], ['17', '30', 123], ['17', '00', 127], ['17', '36049', 131], ['17', '91', 135], ['17', '70', 139], ['17', '14', 143], ['17', 'U', 147], ['ZZ', 'N', 151], ['17', '2205', 154], ['9V', '0.00', 157], ['9V', '0.00', 161], ['ZZ', '06', 165], ['ZZ', 'V1', 169], ['ZZ', '2', 172], ['17', 'H2775', 176], ['0F', 'XX99997X', 186], ['17', 'XX99997X', 187], ['3H', '9979999999', 188], ['ABB', 'XX99997X', 189], ['17', 'I', 203], ['17', '30', 206], ['17', '00', 210], ['17', '66', 214], ['17', '90', 218], ['17', '66', 222], ['17', 'D', 226], ['ZZ', 'Y', 230], ['17', '2205', 233], ['9V', '0.00', 236], ['9V', '0.00', 240], ['ZZ', '05', 244]], 'DTP': [['356', 'D8', '20180101', 13], ['348', 'D8', '20180101', 23], ['344', 'D8', '20190901', 27], ['007', 'D8', '20190101', 38], ['007', 'D8', '20190101', 42], ['007', 'D8', '20190101', 46], ['007', 'D8', '20190101', 50], ['007', 'RD8', '20180101-20181231', 54], ['007', 'D8', '20190101', 58], ['007', 'D8', '20180101', 62], ['007', 'D8', '20190101', 81], ['007', 'D8', '20180101', 85], ['356', 'D8', '20190101', 98], ['348', 'D8', '20190101', 106], ['344', 'D8', '20190101', 110], ['345', 'D8', '20191231', 111], ['344', 'D8', '20190601', 114], ['345', 'D8', '20191231', 115], ['007', 'D8', '20190101', 124], ['007', 'D8', '20190101', 128], ['007', 'D8', '20190101', 132], ['007', 'D8', '20190101', 136], ['007', 'RD8', '20190101-20190131', 140], ['007', 'D8', '20190201', 144], ['007', 'D8', '20190101', 148], ['007', 'D8', '20190101', 158], ['007', 'D8', '20190101', 162], ['007', 'D8', '20190101', 166], ['007', 'D8', '20190901', 173], ['007', 'RD8', '20190101-20191231', 177], ['356', 'D8', '20180201', 190], ['348', 'D8', '20180201', 197], ['007', 'D8', '20180201', 207], ['007', 'D8', '20180201', 211], ['007', 'D8', '20180201', 215], ['007', 'D8', '20180201', 219], ['007', 'D8', '20180201', 223], ['007', 'D8', '20180201', 227], ['007', 'D8', '20190101', 237], ['007', 'D8', '20190101', 241], ['007', 'D8', '20180101', 245]], 'NM1': [['IL', '1', 'SUBSCRIBER 6 LAST NAME', 'SUBSCRIBER 6 FIRST NAME', 'MI', '', '', '34', '999999996', 14], ['Y2', '2', '', '', '', '', '', 'SV', '8-DIGIT PLAN ID', '72', 25], ['IN', '2', 'COMMERCIAL INSURANCE NAME', '', '', '', '', 'NI', '95222', 28], ['IL', '1', 'SUBSCRIBER 4NA LAST NAME', 'SUBSCRIBER 4NA FIRST NAME', 'MI', '', '', '34', '999999994', 99], ['QD', '1', 'CASE NAME', 104], ['Y2', '2', '', '', '', '', '', 'SV', '8-DIGIT PLAN ID', '72', 108], ['36', '2', 'MEDICARE-A', 112], ['36', '2', 'MEDICARE-B', 116], ['IL', '1', 'SUBSCRIBER 7 LAST NAME', 'SUBSCRIBER 7 FIRST NAME', 'MI', '', '', '34', '999999997', 191], ['Y2', '2', '', '', '', '', '', 'SV', '8-DIGIT PLAN ID', '72', 199]], 'PER': [['IP', '', 'TE', '9999996666', 15], ['IP', '', 'TE', '9999994444', 100], ['IP', '', 'TE', '9999997777', 192]], 'N3': [['126 FOX ST', 16], ['2850 WEST XXXXX BOULEV', 29], ['124 DEE ST', 'CARE OF NAME FOR SUB 4', 101], ['127 GREEN ST', 'APT 7G', 193]], 'N4': [['FNYTOWN', 'NY', '14456', 17], ['DETROIT', 'MI', '48202', 30], ['DNYTOWN', 'NY', '13367', 102], ['GNYTOWN', 'NY', '10512', '', 'CY', '36079', 194]], 'DMG': [['D8', '20000606', 'F', '', 'B', 18], ['D8', '20040404', 'F', '', '8', 103], ['D8', '20070707', 'F', '', '8', 195]], 'LUI': [['LE', 'ENG', '', '6', 19], ['LE', 'ENG', '', '7', 20], ['LE', 'ENG', '', '5', 21]], 'HD': [['030', '', 'HLT', '', 'IND', 22], ['030', '', 'HLT', '', 'IND', 105], ['030', '', 'HLT', '', 'IND', 196]], 'LX': [['1', 24], ['1', 32], ['2', 35], ['3', 39], ['4', 43], ['5', 47], ['6', 51], ['7', 55], ['8', 59], ['9', 63], ['10', 66], ['11', 69], ['12', 72], ['13', 75], ['14', 78], ['15', 82], ['1', 107], ['1', 118], ['2', 121], ['3', 125], ['4', 129], ['5', 133], ['6', 137], ['7', 141], ['8', 145], ['9', 149], ['10', 152], ['11', 155], ['12', 159], ['13', 163], ['14', 167], ['15', 170], ['16', 174], ['1', 198], ['1', 201], ['2', 204], ['3', 208], ['4', 212], ['5', 216], ['6', 220], ['7', 224], ['8', 228], ['9', 231], ['10', 234], ['11', 238], ['12', 242]], 'COB': [['U', '1923000000000001', '1', 26], ['P', '4AC0Y25NP81', '1', 109], ['P', '4AC0Y25NP82', '1', 113]], 'LS': [['2700', 31], ['2700', 117], ['2700', 200]], 'LE': [['2700', 86], ['2700', 178], ['2700', 246]], 'SE': [['85', '193230001', 87], ['92', '193230002', 179], ['68', '193230003', 247]], 'GE': [['3', '193230001', 248]], 'IEA': [['1', '193230001', 249]], '': [[250]]})\n"
     ]
    }
   ],
   "source": [
    "# test sample 2\n",
    "file_path = \"/Users/rupakpantha/Downloads/viveka834/MCE834Sample_verification.txt\"\n",
    "file2 = edi(file_path)\n",
    "data = file2.parse()\n",
    "\n",
    "print(data)"
   ]
  },
  {
   "cell_type": "code",
   "execution_count": null,
   "id": "22bfaac5",
   "metadata": {},
   "outputs": [],
   "source": [
    "def"
   ]
  }
 ],
 "metadata": {
  "kernelspec": {
   "display_name": "Python [conda env:data_science] *",
   "language": "python",
   "name": "conda-env-data_science-py"
  },
  "language_info": {
   "codemirror_mode": {
    "name": "ipython",
    "version": 3
   },
   "file_extension": ".py",
   "mimetype": "text/x-python",
   "name": "python",
   "nbconvert_exporter": "python",
   "pygments_lexer": "ipython3",
   "version": "3.10.9"
  }
 },
 "nbformat": 4,
 "nbformat_minor": 5
}
