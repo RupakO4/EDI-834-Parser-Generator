{
 "cells": [
  {
   "cell_type": "markdown",
   "id": "73775869",
   "metadata": {},
   "source": [
    "#  EDI Parser and Generator"
   ]
  },
  {
   "cell_type": "code",
   "execution_count": 4,
   "id": "e9fe21c9",
   "metadata": {},
   "outputs": [],
   "source": [
    "from collections import defaultdict\n"
   ]
  },
  {
   "cell_type": "code",
   "execution_count": 5,
   "id": "d4d2a2dc",
   "metadata": {},
   "outputs": [],
   "source": [
    "class edi_parser:\n",
    "    def __init__(self, file_path):\n",
    "        self.file_path = file_path\n",
    "        self.segments = []\n",
    "        with open(file_path, \"r\") as f:\n",
    "            data = f.read()\n",
    "            self.segments = data.split(\"~\")\n",
    "\n",
    "        self.result_dict = defaultdict(list)\n",
    "        \n",
    "    \n",
    "    def parse_834(self):\n",
    "        \n",
    "        i = 0 \n",
    "        for segment in self.segments:\n",
    "            segment_data = segment.split('*')\n",
    "            key = segment_data[0]\n",
    "            i += 1 #i is the positional value of the data segment\n",
    "            values = [value for value in segment_data[1:]]\n",
    "            values.append(i) # the position is plased at the end of the values list \n",
    "            self.result_dict[key].append(values)\n",
    "            \n",
    "        return self.result_dict\n",
    "    \n",
    "    def ins_data(self):\n",
    "        \n",
    "        for key, values in self.result_dict.items():\n",
    "            if key == \"INS\":\n",
    "                return values\n",
    "            \n",
    "    def nm1_data(self):\n",
    "        \n",
    "        for key, values in self.result_dict.items():\n",
    "            if key == \"NM1\":\n",
    "                return values\n",
    "    \n",
    "class edi_generator:\n",
    "    \n",
    "    def __init__(self,res_dict):\n",
    "        self.res_dict = res_dict\n",
    "    \n",
    "    def generate_834(self, w_file_path):\n",
    "        \n",
    "        segments = []\n",
    "        for key, values in self.res_dict.items():\n",
    "            for value_set in values:\n",
    "                segment_data = [key] + value_set[:]\n",
    "                segment = '*'.join(map(str, segment_data))\n",
    "                segments.append(segment)\n",
    "\n",
    "        # Sort the segments based on the position\n",
    "        segments.sort(key=lambda x: int(x.split('*')[-1]))\n",
    "\n",
    "        #Remove the positional element from the joined segments\n",
    "        segments = [segment.rsplit('*', 1)[0] for segment in segments]\n",
    "\n",
    "        #Join the segments with '~' delimiter\n",
    "        data_834 = '~'.join(segments)\n",
    "        #print(data)\n",
    "        # Write the data to the file\n",
    "        with open(w_file_path, \"w\") as file:\n",
    "            file.write(data_834)\n",
    "        \n",
    "        return data_834"
   ]
  },
  {
   "cell_type": "markdown",
   "id": "f844115a",
   "metadata": {},
   "source": [
    "### Parsing the File"
   ]
  },
  {
   "cell_type": "code",
   "execution_count": 6,
   "id": "6b876ee7",
   "metadata": {
    "scrolled": true
   },
   "outputs": [
    {
     "name": "stdout",
     "output_type": "stream",
     "text": [
      "defaultdict(<class 'list'>, {'ISA': [['00', '          ', '00', '          ', 'ZZ', 'EMEDNYMCR      ', 'ZZ', '8-DIGIT PLAN ID', '191127', '1410', '^', '00501', '193310003', '0', 'T', ':', 1]], 'GS': [['BE', 'EMEDNYMCR', 'ETIN', '20191127', '141000', '193310003', 'X', '005010X220A1', 2]], 'ST': [['834', '193310001', '005010X220A1', 3], ['834', '193310002', '005010X220A1', 79], ['834', '193310003', '005010X220A1', 148], ['834', '193310004', '005010X220A1', 237]], 'BGN': [['00', '1933100000000003XF1933100000000001', '20191127', '141001', '', '', '', '2', 4], ['00', '1933100000000003XF1933100000000002', '20191127', '141002', '', '', '', '2', 80], ['00', '1933100000000003XF1933100000000003', '20191127', '141003', '', '', '', '2', 149], ['00', '1933100000000003XF1933100000000004', '20191127', '141004', '', '', '', '2', 238]], 'QTY': [['TO', '1', 5], ['TO', '1', 81], ['TO', '1', 150], ['TO', '1', 239]], 'N1': [['P5', 'MEDICAID', 'FI', '141797357', 6], ['IN', '', '94', '8-DIGIT PLAN ID', 7], ['75', 'FAM IND', 30], ['75', 'COE CODE', 33], ['75', 'MONEY CODE', 37], ['75', 'FISCAL COUNTY', 41], ['75', 'AID CAT CODE', 45], ['75', 'BEN PKG CODE', 49], ['75', 'ORIGIN CODE', 53], ['75', 'RRE CODES', 57], ['75', 'COPAY EXEMPT IND', 60], ['75', 'MED RATE CODE', 63], ['75', 'NAMI', 66], ['75', 'EXCESS', 70], ['75', 'WMS ENROLL/DISENROLL REASON CODE', 74], ['P5', 'MEDICAID', 'FI', '141797357', 82], ['IN', '', '94', '8-DIGIT PLAN ID', 83], ['75', 'FAM IND', 103], ['75', 'COE CODE', 106], ['75', 'MONEY CODE', 110], ['75', 'FISCAL COUNTY', 114], ['75', 'AID CAT CODE', 118], ['75', 'BEN PKG CODE', 122], ['75', 'ORIGIN CODE', 126], ['75', 'COPAY EXEMPT IND', 130], ['75', 'MED RATE CODE', 133], ['75', 'ADDL MAINT REASON', 136], ['75', 'NAMI', 139], ['75', 'EXCESS', 143], ['P5', 'MEDICAID', 'FI', '141797357', 151], ['IN', '', '94', '8-DIGIT PLAN ID', 152], ['75', 'FAM IND', 185], ['75', 'COE CODE', 188], ['75', 'MONEY CODE', 192], ['75', 'FISCAL COUNTY', 196], ['75', 'AID CAT CODE', 200], ['75', 'BEN PKG CODE', 204], ['75', 'BEN PKG CODE', 208], ['75', 'ORIGIN CODE', 212], ['75', 'RECERT DATE', 216], ['75', 'COPAY EXEMPT IND', 219], ['75', 'MED RATE CODE', 222], ['75', 'NAMI', 225], ['75', 'EXCESS', 229], ['75', 'RECERT DATE', 233], ['P5', 'MEDICAID', 'FI', '141797357', 240], ['IN', '', '94', '8-DIGIT PLAN ID', 241], ['75', 'FAM IND', 279], ['75', 'COE CODE', 282], ['75', 'MONEY CODE', 286], ['75', 'FISCAL COUNTY', 290], ['75', 'AID CAT CODE', 294], ['75', 'BEN PKG CODE', 298], ['75', 'ORIGIN CODE', 302], ['75', 'RRE CODES', 306], ['75', 'COPAY EXEMPT IND', 309], ['75', 'TPL CVRG', 312], ['75', 'MED RATE CODE', 315], ['75', 'NAMI', 318], ['75', 'EXCESS', 322], ['75', 'WMS ENROLL/DISENROLL REASON CODE', 326]], 'INS': [['Y', '18', '021', '28', 'A', '', '', 'AC', 8], ['Y', '18', '024', '', 'A', '', '', 'TE', 84], ['Y', '18', '021', '', 'A', '', '', 'AC', 153], ['Y', '18', '021', '28', 'A', '', '', 'AC', 242]], 'REF': [['0F', 'XX99992X', 9], ['17', 'XX99992X', 10], ['3H', '9929999999', 11], ['ABB', 'XX99992X', 12], ['17', 'I', 31], ['17', '30', 34], ['17', '00', 38], ['17', '36029', 42], ['17', '90', 46], ['17', '14', 50], ['17', 'U', 54], ['17', '060809', 58], ['ZZ', 'Y', 61], ['17', '2205', 64], ['9V', '111.00', 67], ['9V', '0.00', 71], ['ZZ', '05', 75], ['0F', 'XX99992X', 85], ['17', 'XX99992X', 86], ['3H', '9929999999', 87], ['ABB', 'XX99992X', 88], ['17', 'I', 104], ['17', '30', 107], ['17', '00', 111], ['17', '36029', 115], ['17', '90', 119], ['17', '14', 123], ['17', 'U', 127], ['ZZ', 'Y', 131], ['17', '2205', 134], ['17', 'TERM', 137], ['9V', '111.00', 140], ['9V', '0.00', 144], ['0F', 'XX99996X', 154], ['1L', 'PLANGRPID99996X', 155], ['17', 'XX99996X', 156], ['23', 'PLANMEMID99996X', 157], ['3H', '9969999999', 158], ['ABB', 'XX99996X', 159], ['ZZ', 'PLANSUBID99996X', 160], ['X9', 'QHPPLCYID99996X', 172], ['17', 'F', 186], ['17', '30', 189], ['17', '00', 193], ['17', '36069', 197], ['17', '91', 201], ['17', '70', 205], ['17', '77', 209], ['17', 'U', 213], ['ZZ', '20201031', 217], ['ZZ', 'N', 220], ['17', '2205', 223], ['9V', '222.00', 226], ['9V', '0', 230], ['ZZ', '20201101', 234], ['0F', 'XX99997X', 243], ['17', 'XX99997X', 244], ['3H', '9979999999', 245], ['ABB', 'XX99997X', 246], ['17', 'I', 280], ['17', '30', 283], ['17', '00', 287], ['17', '66', 291], ['17', '90', 295], ['17', '66', 299], ['17', 'D', 303], ['17', '06', 307], ['ZZ', 'Y', 310], ['ZZ', '9999999999999997-030405060708111314171819202122', 313], ['17', '2205', 316], ['9V', '0.00', 319], ['9V', '0.00', 323], ['ZZ', '02', 327]], 'DTP': [['356', 'D8', '20190101', 13], ['348', 'D8', '20190101', 25], ['007', 'D8', '20190101', 35], ['007', 'D8', '20190101', 39], ['007', 'D8', '20190101', 43], ['007', 'D8', '20190101', 47], ['007', 'D8', '20190101', 51], ['007', 'D8', '20190101', 55], ['007', 'D8', '20190101', 68], ['007', 'D8', '20190101', 72], ['007', 'D8', '20190101', 76], ['356', 'D8', '20190101', 89], ['357', 'D8', '20191130', 90], ['348', 'D8', '20190101', 97], ['349', 'D8', '20191130', 98], ['007', 'RD8', '20190101-20191130', 108], ['007', 'RD8', '20190101-20191130', 112], ['007', 'RD8', '20190101-20191130', 116], ['007', 'RD8', '20190101-20191130', 120], ['007', 'RD8', '20190101-20191130', 124], ['007', 'RD8', '20190101-20191130', 128], ['007', 'D8', '20190101', 141], ['007', 'D8', '20190101', 145], ['356', 'D8', '20180101', 161], ['348', 'D8', '20180101', 171], ['344', 'D8', '20200101', 176], ['345', 'D8', '20201231', 177], ['344', 'D8', '20200101', 180], ['345', 'D8', '20201231', 181], ['007', 'D8', '20180101', 190], ['007', 'D8', '20180101', 194], ['007', 'D8', '20180101', 198], ['007', 'D8', '20180101', 202], ['007', 'RD8', '20180101-20181231', 206], ['007', 'D8', '20190101', 210], ['007', 'D8', '20180101', 214], ['007', 'D8', '20190101', 227], ['007', 'D8', '20190101', 231], ['356', 'D8', '20191201', 247], ['348', 'D8', '20191201', 260], ['344', 'D8', '20191201', 264], ['345', 'D8', '20191231', 265], ['344', 'D8', '20191201', 268], ['345', 'D8', '20191231', 269], ['344', 'D8', '20191201', 272], ['345', 'D8', '20191231', 273], ['007', 'D8', '20191201', 284], ['007', 'D8', '20191201', 288], ['007', 'D8', '20191201', 292], ['007', 'D8', '20191201', 296], ['007', 'D8', '20191201', 300], ['007', 'D8', '20191201', 304], ['007', 'D8', '20191201', 320], ['007', 'D8', '20191201', 324], ['007', 'D8', '20191201', 328]], 'NM1': [['IL', '1', 'SUBSCRIBER 2 LAST NAME', 'SUBSCRIBER 2 FIRST NAME', 'MI', '', '', '34', '999999992', 14], ['31', '1', 21], ['Y2', '2', '', '', '', '', '', 'SV', '8-DIGIT PLAN ID', '72', 27], ['IL', '1', 'SUBSCRIBER 2 LAST NAME', 'SUBSCRIBER 2 FIRST NAME', 'MI', '', '', '34', '999999992', 91], ['Y2', '2', '', '', '', '', '', 'SV', '8-DIGIT PLAN ID', '72', 100], ['IL', '1', 'SUBSCRIBER 6A LAST NAME', 'SUBSCRIBER 6A FIRST NAME', 'MI', '', '', '34', '999999996', 162], ['Y2', '2', '', '', '', '', '', 'SV', '8-DIGIT PLAN ID', '72', 174], ['IN', '2', 'MEDICARE-A', 178], ['IN', '2', 'MEDICARE-B', 182], ['IL', '1', 'SUBSCRIBER 7 LAST NAME', 'SUBSCRIBER 7 FIRST NAME', 'MI', '', '', '34', '999999997', 248], ['31', '1', 256], ['Y2', '2', '', '', '', '', '', 'SV', '8-DIGIT PLAN ID', '72', 262], ['IN', '2', 'MEDICARE-A', 266], ['IN', '2', 'MEDICARE-B', 270], ['IN', '2', 'COMMERCIAL INSURANCE NAME', '', '', '', '', 'NI', '95844', 274]], 'PER': [['IP', '', 'TE', '9999992222', 15], ['IP', '', 'TE', '9999992222', 92], ['IP', '', 'TE', '9999996666', 163], ['IP', '', 'TE', '9999997777', 249]], 'N3': [['122 BEE ST', 'CARE OF NAME FOR SUB 2', 16], ['CARE OF MAILING ADDRESS FOR SUB 2', 'APT BB', 22], ['122 BEE ST', 'CARE OF NAME FOR SUB 2', 93], ['126 FOX ST', 164], ['127 GREEN ST', 'APT 7G', 250], [\"PATIENT'S MAILING ADDRESS\", 257], ['2850 WEST XXXXX BOULEV', 275]], 'N4': [['BNYTOWN', 'NY', '14001', '', 'CY', '36029', 17], ['BNYTOWN', 'NY', '14001', 23], ['BNYTOWN', 'NY', '14001', '', 'CY', '36029', 94], ['FNYTOWN', 'NY', '14456', 165], ['GNYTOWN', 'NY', '10512', '', 'CY', '36079', 251], ['GNYTOWN', 'NY', '10512', 258], ['DETROIT', 'MI', '48202', 276]], 'DMG': [['D8', '20020202', 'F', '', 'C', 18], ['D8', '20020202', 'F', '', 'C', 95], ['D8', '20060606', 'F', '', 'B', 166], ['D8', '20070707', 'F', '', '8', 252]], 'LUI': [['LE', 'FRE', '', '6', 19], ['LE', 'FRE', '', '7', 20], ['LE', 'ENG', '', '6', 167], ['LE', 'ENG', '', '7', 168], ['LE', 'ENG', '', '5', 169], ['LE', 'ITA', '', '5', 253], ['LE', 'ITA', '', '6', 254], ['LE', 'ITA', '', '7', 255]], 'HD': [['021', '', 'HLT', '', 'IND', 24], ['024', '', 'HLT', '', 'IND', 96], ['001', '', 'HLT', '', 'IND', 170], ['021', '', 'HLT', '', 'IND', 259]], 'LX': [['1', 26], ['1', 29], ['2', 32], ['3', 36], ['4', 40], ['5', 44], ['6', 48], ['7', 52], ['8', 56], ['9', 59], ['10', 62], ['11', 65], ['12', 69], ['13', 73], ['1', 99], ['1', 102], ['2', 105], ['3', 109], ['4', 113], ['5', 117], ['6', 121], ['7', 125], ['8', 129], ['9', 132], ['10', 135], ['11', 138], ['12', 142], ['1', 173], ['1', 184], ['2', 187], ['3', 191], ['4', 195], ['5', 199], ['6', 203], ['7', 207], ['8', 211], ['9', 215], ['10', 218], ['11', 221], ['12', 224], ['13', 228], ['14', 232], ['1', 261], ['1', 278], ['2', 281], ['3', 285], ['4', 289], ['5', 293], ['6', 297], ['7', 301], ['8', 305], ['9', 308], ['10', 311], ['11', 314], ['12', 317], ['13', 321], ['14', 325]], 'LS': [['2700', 28], ['2700', 101], ['2700', 183], ['2700', 277]], 'LE': [['2700', 77], ['2700', 146], ['2700', 235], ['2700', 329]], 'SE': [['76', '193310001', 78], ['69', '193310002', 147], ['89', '193310003', 236], ['94', '193310004', 330]], 'COB': [['P', '7AC0Y25NP86', '1', 175], ['P', '7AC0Y25NP66', '1', 179], ['P', '7AC0Y25NP87', '1', 263], ['P', '7AC0Y25NP77', '1', 267], ['S', '9999999999999997', '1', 271]], 'GE': [['4', '193310003', 331]], 'IEA': [['1', '193310003', 332]], '': [[333]]})\n"
     ]
    }
   ],
   "source": [
    "file_path = \"MCE834Sample_3.txt\"\n",
    "file2 = edi_parser(file_path)\n",
    "parsed_data = file2.parse_834()\n",
    "\n",
    "print(parsed_data)"
   ]
  },
  {
   "cell_type": "markdown",
   "id": "c93d7199",
   "metadata": {},
   "source": [
    "## Generating the 834 text file"
   ]
  },
  {
   "cell_type": "code",
   "execution_count": 7,
   "id": "c62e1a83",
   "metadata": {
    "scrolled": true
   },
   "outputs": [
    {
     "name": "stdout",
     "output_type": "stream",
     "text": [
      "ISA*00*          *00*          *ZZ*EMEDNYMCR      *ZZ*8-DIGIT PLAN ID*191127*1410*^*00501*193310003*0*T*:~GS*BE*EMEDNYMCR*ETIN*20191127*141000*193310003*X*005010X220A1~ST*834*193310001*005010X220A1~BGN*00*1933100000000003XF1933100000000001*20191127*141001****2~QTY*TO*1~N1*P5*MEDICAID*FI*141797357~N1*IN**94*8-DIGIT PLAN ID~INS*Y*18*021*28*A***AC~REF*0F*XX99992X~REF*17*XX99992X~REF*3H*9929999999~REF*ABB*XX99992X~DTP*356*D8*20190101~NM1*IL*1*SUBSCRIBER 2 LAST NAME*SUBSCRIBER 2 FIRST NAME*MI***34*999999992~PER*IP**TE*9999992222~N3*122 BEE ST*CARE OF NAME FOR SUB 2~N4*BNYTOWN*NY*14001**CY*36029~DMG*D8*20020202*F**C~LUI*LE*FRE**6~LUI*LE*FRE**7~NM1*31*1~N3*CARE OF MAILING ADDRESS FOR SUB 2*APT BB~N4*BNYTOWN*NY*14001~HD*021**HLT**IND~DTP*348*D8*20190101~LX*1~NM1*Y2*2******SV*8-DIGIT PLAN ID*72~LS*2700~LX*1~N1*75*FAM IND~REF*17*I~LX*2~N1*75*COE CODE~REF*17*30~DTP*007*D8*20190101~LX*3~N1*75*MONEY CODE~REF*17*00~DTP*007*D8*20190101~LX*4~N1*75*FISCAL COUNTY~REF*17*36029~DTP*007*D8*20190101~LX*5~N1*75*AID CAT CODE~REF*17*90~DTP*007*D8*20190101~LX*6~N1*75*BEN PKG CODE~REF*17*14~DTP*007*D8*20190101~LX*7~N1*75*ORIGIN CODE~REF*17*U~DTP*007*D8*20190101~LX*8~N1*75*RRE CODES~REF*17*060809~LX*9~N1*75*COPAY EXEMPT IND~REF*ZZ*Y~LX*10~N1*75*MED RATE CODE~REF*17*2205~LX*11~N1*75*NAMI~REF*9V*111.00~DTP*007*D8*20190101~LX*12~N1*75*EXCESS~REF*9V*0.00~DTP*007*D8*20190101~LX*13~N1*75*WMS ENROLL/DISENROLL REASON CODE~REF*ZZ*05~DTP*007*D8*20190101~LE*2700~SE*76*193310001~ST*834*193310002*005010X220A1~BGN*00*1933100000000003XF1933100000000002*20191127*141002****2~QTY*TO*1~N1*P5*MEDICAID*FI*141797357~N1*IN**94*8-DIGIT PLAN ID~INS*Y*18*024**A***TE~REF*0F*XX99992X~REF*17*XX99992X~REF*3H*9929999999~REF*ABB*XX99992X~DTP*356*D8*20190101~DTP*357*D8*20191130~NM1*IL*1*SUBSCRIBER 2 LAST NAME*SUBSCRIBER 2 FIRST NAME*MI***34*999999992~PER*IP**TE*9999992222~N3*122 BEE ST*CARE OF NAME FOR SUB 2~N4*BNYTOWN*NY*14001**CY*36029~DMG*D8*20020202*F**C~HD*024**HLT**IND~DTP*348*D8*20190101~DTP*349*D8*20191130~LX*1~NM1*Y2*2******SV*8-DIGIT PLAN ID*72~LS*2700~LX*1~N1*75*FAM IND~REF*17*I~LX*2~N1*75*COE CODE~REF*17*30~DTP*007*RD8*20190101-20191130~LX*3~N1*75*MONEY CODE~REF*17*00~DTP*007*RD8*20190101-20191130~LX*4~N1*75*FISCAL COUNTY~REF*17*36029~DTP*007*RD8*20190101-20191130~LX*5~N1*75*AID CAT CODE~REF*17*90~DTP*007*RD8*20190101-20191130~LX*6~N1*75*BEN PKG CODE~REF*17*14~DTP*007*RD8*20190101-20191130~LX*7~N1*75*ORIGIN CODE~REF*17*U~DTP*007*RD8*20190101-20191130~LX*8~N1*75*COPAY EXEMPT IND~REF*ZZ*Y~LX*9~N1*75*MED RATE CODE~REF*17*2205~LX*10~N1*75*ADDL MAINT REASON~REF*17*TERM~LX*11~N1*75*NAMI~REF*9V*111.00~DTP*007*D8*20190101~LX*12~N1*75*EXCESS~REF*9V*0.00~DTP*007*D8*20190101~LE*2700~SE*69*193310002~ST*834*193310003*005010X220A1~BGN*00*1933100000000003XF1933100000000003*20191127*141003****2~QTY*TO*1~N1*P5*MEDICAID*FI*141797357~N1*IN**94*8-DIGIT PLAN ID~INS*Y*18*021**A***AC~REF*0F*XX99996X~REF*1L*PLANGRPID99996X~REF*17*XX99996X~REF*23*PLANMEMID99996X~REF*3H*9969999999~REF*ABB*XX99996X~REF*ZZ*PLANSUBID99996X~DTP*356*D8*20180101~NM1*IL*1*SUBSCRIBER 6A LAST NAME*SUBSCRIBER 6A FIRST NAME*MI***34*999999996~PER*IP**TE*9999996666~N3*126 FOX ST~N4*FNYTOWN*NY*14456~DMG*D8*20060606*F**B~LUI*LE*ENG**6~LUI*LE*ENG**7~LUI*LE*ENG**5~HD*001**HLT**IND~DTP*348*D8*20180101~REF*X9*QHPPLCYID99996X~LX*1~NM1*Y2*2******SV*8-DIGIT PLAN ID*72~COB*P*7AC0Y25NP86*1~DTP*344*D8*20200101~DTP*345*D8*20201231~NM1*IN*2*MEDICARE-A~COB*P*7AC0Y25NP66*1~DTP*344*D8*20200101~DTP*345*D8*20201231~NM1*IN*2*MEDICARE-B~LS*2700~LX*1~N1*75*FAM IND~REF*17*F~LX*2~N1*75*COE CODE~REF*17*30~DTP*007*D8*20180101~LX*3~N1*75*MONEY CODE~REF*17*00~DTP*007*D8*20180101~LX*4~N1*75*FISCAL COUNTY~REF*17*36069~DTP*007*D8*20180101~LX*5~N1*75*AID CAT CODE~REF*17*91~DTP*007*D8*20180101~LX*6~N1*75*BEN PKG CODE~REF*17*70~DTP*007*RD8*20180101-20181231~LX*7~N1*75*BEN PKG CODE~REF*17*77~DTP*007*D8*20190101~LX*8~N1*75*ORIGIN CODE~REF*17*U~DTP*007*D8*20180101~LX*9~N1*75*RECERT DATE~REF*ZZ*20201031~LX*10~N1*75*COPAY EXEMPT IND~REF*ZZ*N~LX*11~N1*75*MED RATE CODE~REF*17*2205~LX*12~N1*75*NAMI~REF*9V*222.00~DTP*007*D8*20190101~LX*13~N1*75*EXCESS~REF*9V*0~DTP*007*D8*20190101~LX*14~N1*75*RECERT DATE~REF*ZZ*20201101~LE*2700~SE*89*193310003~ST*834*193310004*005010X220A1~BGN*00*1933100000000003XF1933100000000004*20191127*141004****2~QTY*TO*1~N1*P5*MEDICAID*FI*141797357~N1*IN**94*8-DIGIT PLAN ID~INS*Y*18*021*28*A***AC~REF*0F*XX99997X~REF*17*XX99997X~REF*3H*9979999999~REF*ABB*XX99997X~DTP*356*D8*20191201~NM1*IL*1*SUBSCRIBER 7 LAST NAME*SUBSCRIBER 7 FIRST NAME*MI***34*999999997~PER*IP**TE*9999997777~N3*127 GREEN ST*APT 7G~N4*GNYTOWN*NY*10512**CY*36079~DMG*D8*20070707*F**8~LUI*LE*ITA**5~LUI*LE*ITA**6~LUI*LE*ITA**7~NM1*31*1~N3*PATIENT'S MAILING ADDRESS~N4*GNYTOWN*NY*10512~HD*021**HLT**IND~DTP*348*D8*20191201~LX*1~NM1*Y2*2******SV*8-DIGIT PLAN ID*72~COB*P*7AC0Y25NP87*1~DTP*344*D8*20191201~DTP*345*D8*20191231~NM1*IN*2*MEDICARE-A~COB*P*7AC0Y25NP77*1~DTP*344*D8*20191201~DTP*345*D8*20191231~NM1*IN*2*MEDICARE-B~COB*S*9999999999999997*1~DTP*344*D8*20191201~DTP*345*D8*20191231~NM1*IN*2*COMMERCIAL INSURANCE NAME*****NI*95844~N3*2850 WEST XXXXX BOULEV~N4*DETROIT*MI*48202~LS*2700~LX*1~N1*75*FAM IND~REF*17*I~LX*2~N1*75*COE CODE~REF*17*30~DTP*007*D8*20191201~LX*3~N1*75*MONEY CODE~REF*17*00~DTP*007*D8*20191201~LX*4~N1*75*FISCAL COUNTY~REF*17*66~DTP*007*D8*20191201~LX*5~N1*75*AID CAT CODE~REF*17*90~DTP*007*D8*20191201~LX*6~N1*75*BEN PKG CODE~REF*17*66~DTP*007*D8*20191201~LX*7~N1*75*ORIGIN CODE~REF*17*D~DTP*007*D8*20191201~LX*8~N1*75*RRE CODES~REF*17*06~LX*9~N1*75*COPAY EXEMPT IND~REF*ZZ*Y~LX*10~N1*75*TPL CVRG~REF*ZZ*9999999999999997-030405060708111314171819202122~LX*11~N1*75*MED RATE CODE~REF*17*2205~LX*12~N1*75*NAMI~REF*9V*0.00~DTP*007*D8*20191201~LX*13~N1*75*EXCESS~REF*9V*0.00~DTP*007*D8*20191201~LX*14~N1*75*WMS ENROLL/DISENROLL REASON CODE~REF*ZZ*02~DTP*007*D8*20191201~LE*2700~SE*94*193310004~GE*4*193310003~IEA*1*193310003~\n"
     ]
    }
   ],
   "source": [
    "w_file_path = \"rev_MCE834Sample_3.txt\"\n",
    "file_gen = edi_generator(parsed_data)\n",
    "result_834 = file_gen.generate_834(w_file_path)\n",
    "\n",
    "print(result_834)"
   ]
  },
  {
   "cell_type": "markdown",
   "id": "ea13d48c",
   "metadata": {},
   "source": [
    "## Getting Info "
   ]
  },
  {
   "cell_type": "code",
   "execution_count": 8,
   "id": "07294644",
   "metadata": {},
   "outputs": [],
   "source": [
    "class NM1():\n",
    "        \n",
    "    def __init__(self, data, loop):\n",
    "        \n",
    "        self.data = data[loop] \n",
    "        \n",
    "        self.entityIdentifierCode = None\n",
    "        self.entityTypeQualifier = None\n",
    "        self.lastName = None\n",
    "        self.firstName = None\n",
    "        self.middleName = None\n",
    "        self.suffix = None\n",
    "        self.idCodeQualifier = None\n",
    "        self.idCode = None\n",
    "        \n",
    "    \n",
    "    #to-do implement such that if the data is given then set new values else keep the previous values as default\n",
    "    def set_values(self, elements = None):\n",
    "        \n",
    "        if elements == None:\n",
    "            elements = self.data\n",
    "\n",
    "        self.entityIdentifierCode = elements[0]\n",
    "        self.entityTypeQualifier = elements[1]\n",
    "        self.lastName = elements[2]\n",
    "        self.firstName = elements[3]\n",
    "        self.middleName = elements[4]\n",
    "        self.suffix = elements[5]\n",
    "        self.idCodeQualifier = elements[6]\n",
    "        self.idCode = elements[7]\n",
    "#         self.position = element[]\n",
    "            \n",
    "    def get_values(self):\n",
    "#         for sublist in self.data:\n",
    "#             return sublist\n",
    "        print('entityIdentifierCode :',self.entityIdentifierCode)\n",
    "        print('entityTypeQualifier :',self.entityTypeQualifier)  \n",
    "        print('lastName :',self.lastName)  \n",
    "        print('firstName :',self.firstName)  \n",
    "        print('middleName :',self.middleName) \n",
    "        print('suffix :',self.suffix)  \n",
    "        print('idCodeQualifier :',self.idCodeQualifier)\n",
    "        print('idCode :',self.idCode)\n",
    "#         print(self.position)  \n",
    "        \n"
   ]
  },
  {
   "cell_type": "code",
   "execution_count": 10,
   "id": "98e15b91",
   "metadata": {},
   "outputs": [
    {
     "name": "stdout",
     "output_type": "stream",
     "text": [
      "entityIdentifierCode : IL\n",
      "entityTypeQualifier : 1\n",
      "lastName : SUBSCRIBER 2 LAST NAME\n",
      "firstName : SUBSCRIBER 2 FIRST NAME\n",
      "middleName : MI\n",
      "suffix : \n",
      "idCodeQualifier : \n",
      "idCode : 34\n"
     ]
    }
   ],
   "source": [
    "nm1_file_path = \"/Users/rupakpantha/Downloads/viveka834/MCE834Sample_3.txt\"\n",
    "\n",
    "file_p = edi_parser(nm1_file_path)\n",
    "parsed_data = file_p.parse_834()\n",
    "\n",
    "nm1_data = file_p.nm1_data()\n",
    "\n",
    "#print(nm1_data)\n",
    "\n",
    "# element = []\n",
    "#print(nm1_data[1])\n",
    "# for i in range(len(ins_data[3])):\n",
    "#     element[i] = ins_data[3][i]\n",
    "\n",
    "# print(element)\n",
    "\n",
    "file834_nm1_0 = NM1(nm1_data,0)\n",
    "file834_nm1_0.set_values()\n",
    "file834_nm1_0.get_values()"
   ]
  },
  {
   "cell_type": "code",
   "execution_count": null,
   "id": "a54ed40b",
   "metadata": {},
   "outputs": [],
   "source": []
  }
 ],
 "metadata": {
  "kernelspec": {
   "display_name": "Python [conda env:data_science] *",
   "language": "python",
   "name": "conda-env-data_science-py"
  },
  "language_info": {
   "codemirror_mode": {
    "name": "ipython",
    "version": 3
   },
   "file_extension": ".py",
   "mimetype": "text/x-python",
   "name": "python",
   "nbconvert_exporter": "python",
   "pygments_lexer": "ipython3",
   "version": "3.10.9"
  }
 },
 "nbformat": 4,
 "nbformat_minor": 5
}
